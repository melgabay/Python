{
  "nbformat": 4,
  "nbformat_minor": 0,
  "metadata": {
    "colab": {
      "name": "Titanik bagging from scratch.ipynb",
      "provenance": [],
      "collapsed_sections": [
        "NrLWFfAD3D1Y",
        "ghZc89sHVgKY"
      ],
      "authorship_tag": "ABX9TyMGhf+FM+Ttzm12w6xxY4P+",
      "include_colab_link": true
    },
    "kernelspec": {
      "name": "python3",
      "display_name": "Python 3"
    },
    "language_info": {
      "name": "python"
    }
  },
  "cells": [
    {
      "cell_type": "markdown",
      "metadata": {
        "id": "view-in-github",
        "colab_type": "text"
      },
      "source": [
        "<a href=\"https://colab.research.google.com/github/melgabay/Python/blob/main/Titanik_bagging_from_scratch.ipynb\" target=\"_parent\"><img src=\"https://colab.research.google.com/assets/colab-badge.svg\" alt=\"Open In Colab\"/></a>"
      ]
    },
    {
      "cell_type": "code",
      "execution_count": 1,
      "metadata": {
        "id": "6Xt25C0Jn8L2",
        "colab": {
          "base_uri": "https://localhost:8080/"
        },
        "outputId": "ff53c462-6b1d-4357-97e2-781919da0391"
      },
      "outputs": [
        {
          "output_type": "stream",
          "name": "stdout",
          "text": [
            "Mounted at /content/drive\n"
          ]
        }
      ],
      "source": [
        "from google.colab import drive\n",
        "drive.mount('/content/drive')"
      ]
    },
    {
      "cell_type": "code",
      "source": [
        "import pandas as pd\n",
        "path1=\"/content/drive/MyDrive/Colab Notebooks/Titanik data/titanikData.csv\"\n",
        "df = pd.read_csv(path1)\n",
        "print(df)\n",
        "\n",
        "path2 = \"/content/drive/MyDrive/Colab Notebooks/Titanik data/titanikTest.csv\"\n",
        "test = pd.read_csv(path2)\n",
        "print(test)"
      ],
      "metadata": {
        "id": "o18VaNgTozhn",
        "colab": {
          "base_uri": "https://localhost:8080/"
        },
        "outputId": "069e1132-6111-4f42-958c-190dca0b0baf"
      },
      "execution_count": 2,
      "outputs": [
        {
          "output_type": "stream",
          "name": "stdout",
          "text": [
            "     pclass    age  gender survived\n",
            "0       1st  adult    male      yes\n",
            "1       1st  adult    male      yes\n",
            "2       1st  adult    male      yes\n",
            "3       1st  adult    male      yes\n",
            "4       1st  adult    male      yes\n",
            "...     ...    ...     ...      ...\n",
            "2145   crew  adult  female      yes\n",
            "2146   crew  adult  female      yes\n",
            "2147   crew  adult  female       no\n",
            "2148   crew  adult  female       no\n",
            "2149   crew  adult  female       no\n",
            "\n",
            "[2150 rows x 4 columns]\n",
            "   pclass    age gender survived\n",
            "0     1st  adult   male      yes\n",
            "1     1st  adult   male      yes\n",
            "2     1st  adult   male      yes\n",
            "3     1st  adult   male      yes\n",
            "4     1st  adult   male      yes\n",
            "..    ...    ...    ...      ...\n",
            "61    3rd  adult   male      yes\n",
            "62    3rd  adult   male      yes\n",
            "63    3rd  adult   male      yes\n",
            "64    3rd  adult   male      yes\n",
            "65    3rd  adult   male      yes\n",
            "\n",
            "[66 rows x 4 columns]\n"
          ]
        }
      ]
    },
    {
      "cell_type": "markdown",
      "source": [
        "# Import"
      ],
      "metadata": {
        "id": "NrLWFfAD3D1Y"
      }
    },
    {
      "cell_type": "code",
      "source": [
        "import pandas as pd              # pandas is great for managing datasets as a single object\n",
        "import numpy as np               # numpy has great matrix/math operations on arrays\n",
        "\n",
        "import matplotlib.pyplot as plt  # allows you to print figures and charts\n",
        "import seaborn as sns            # a fancy chart add-on for matplotlib"
      ],
      "metadata": {
        "id": "ii75lCtxtU28"
      },
      "execution_count": 3,
      "outputs": []
    },
    {
      "cell_type": "markdown",
      "source": [
        "# Read the training data from csv file"
      ],
      "metadata": {
        "id": "BL55SbwR3lzZ"
      }
    },
    {
      "cell_type": "code",
      "source": [
        "df = pd.read_csv(path1, header=0, dtype={\"Age\": np.float64}) \n",
        "# Get the basic info for the data in this file\n",
        "print(df)\n",
        "df.info()"
      ],
      "metadata": {
        "colab": {
          "base_uri": "https://localhost:8080/"
        },
        "id": "QMwJZWJ02RmF",
        "outputId": "7f91fbf2-2499-43e7-edb3-994cf2bd1253"
      },
      "execution_count": 4,
      "outputs": [
        {
          "output_type": "stream",
          "name": "stdout",
          "text": [
            "     pclass    age  gender survived\n",
            "0       1st  adult    male      yes\n",
            "1       1st  adult    male      yes\n",
            "2       1st  adult    male      yes\n",
            "3       1st  adult    male      yes\n",
            "4       1st  adult    male      yes\n",
            "...     ...    ...     ...      ...\n",
            "2145   crew  adult  female      yes\n",
            "2146   crew  adult  female      yes\n",
            "2147   crew  adult  female       no\n",
            "2148   crew  adult  female       no\n",
            "2149   crew  adult  female       no\n",
            "\n",
            "[2150 rows x 4 columns]\n",
            "<class 'pandas.core.frame.DataFrame'>\n",
            "RangeIndex: 2150 entries, 0 to 2149\n",
            "Data columns (total 4 columns):\n",
            " #   Column    Non-Null Count  Dtype \n",
            "---  ------    --------------  ----- \n",
            " 0   pclass    2150 non-null   object\n",
            " 1   age       2150 non-null   object\n",
            " 2   gender    2150 non-null   object\n",
            " 3   survived  2150 non-null   object\n",
            "dtypes: object(4)\n",
            "memory usage: 67.3+ KB\n"
          ]
        }
      ]
    },
    {
      "cell_type": "code",
      "source": [
        "test = pd.read_csv(path2, header=0, dtype={\"Age\": np.float64}) \n",
        "# Get the basic info for the data in this file\n",
        "test.info()"
      ],
      "metadata": {
        "colab": {
          "base_uri": "https://localhost:8080/"
        },
        "id": "NHYI5q5NhNsH",
        "outputId": "abbfcff4-dad7-46df-ce9c-ab35df80ee45"
      },
      "execution_count": null,
      "outputs": [
        {
          "output_type": "stream",
          "name": "stdout",
          "text": [
            "<class 'pandas.core.frame.DataFrame'>\n",
            "RangeIndex: 66 entries, 0 to 65\n",
            "Data columns (total 4 columns):\n",
            " #   Column    Non-Null Count  Dtype \n",
            "---  ------    --------------  ----- \n",
            " 0   pclass    66 non-null     object\n",
            " 1   age       66 non-null     object\n",
            " 2   gender    66 non-null     object\n",
            " 3   survived  66 non-null     object\n",
            "dtypes: object(4)\n",
            "memory usage: 2.2+ KB\n"
          ]
        }
      ]
    },
    {
      "cell_type": "markdown",
      "source": [
        "# Preprocessing functions\n",
        "Preprocessing should be done exactly the same on both the training and testing data sets."
      ],
      "metadata": {
        "id": "9cOi65hIy3nP"
      }
    },
    {
      "cell_type": "markdown",
      "source": [
        "Convert the class field to numeric\n"
      ],
      "metadata": {
        "id": "E0dICxP4Cqnu"
      }
    },
    {
      "cell_type": "code",
      "source": [
        "def convertpclass(df):\n",
        "    \n",
        "  df[\"mahlaka\"] = pd.Categorical(df['pclass'], ordered=True,categories=['crew', '1st', '2nd', '3rd']).codes\n",
        "  \n",
        "  # Now drop the \"Sex\" column since we've already replaced it by the integer column \"Gender\"\n",
        "  df = df.pop('pclass')\n",
        "      \n",
        "  return df"
      ],
      "metadata": {
        "id": "dT-rRrg-C4s7"
      },
      "execution_count": 7,
      "outputs": []
    },
    {
      "cell_type": "markdown",
      "source": [
        "Convert the age field to numeric"
      ],
      "metadata": {
        "id": "WZwx4DxhDDjy"
      }
    },
    {
      "cell_type": "code",
      "source": [
        "def convertAge(df):\n",
        "    \n",
        "    # Convert the 'adult'/'child' strings to integer classifiers: adult = 1, child = 0\n",
        "    # Create a new column called \"guil\" which is a mapping of the \"age\" column into integer values\n",
        "    df[\"guil\"] = df[\"age\"].map( {\"adult\": 1, \"child\": 0} ).astype(int)\n",
        "\n",
        "    # Now drop the \"guil\" column since we've already replaced it by the integer column \"age\"\n",
        "    df = df.pop('age')\n",
        "\n",
        "    return df"
      ],
      "metadata": {
        "id": "WrpATAZhC_J_"
      },
      "execution_count": 8,
      "outputs": []
    },
    {
      "cell_type": "markdown",
      "source": [
        "Convert the gender field to numeric"
      ],
      "metadata": {
        "id": "aB0JwZzDDMEf"
      }
    },
    {
      "cell_type": "code",
      "source": [
        "def convertGender(df):\n",
        "    \n",
        "    # Convert the 'male'/'female' strings to integer classifiers: Female = 0, Male = 1\n",
        "    # Create a new column called \"Gender\" which is a mapping of the \"gender\" column into integer values\n",
        "    df[\"sex\"] = df[\"gender\"].map( {\"male\": 1, \"female\": 0} ).astype(int)\n",
        "    \n",
        "    # Now drop the \"gender\" column since we've already replaced it by the integer column \"Gender\"\n",
        "    df = df.pop('gender')\n",
        "    \n",
        "    return df"
      ],
      "metadata": {
        "id": "1fTeTyafDHD-"
      },
      "execution_count": 9,
      "outputs": []
    },
    {
      "cell_type": "markdown",
      "source": [
        "Convert Survived\n",
        "\n",
        "Yes = 1\n",
        "No = 0"
      ],
      "metadata": {
        "id": "ghZc89sHVgKY"
      }
    },
    {
      "cell_type": "code",
      "source": [
        "def convertSurvived(df):\n",
        "\n",
        "  # Convert the survivor integer classifiers: yes = 1, no = 0\n",
        "  df[\"survivant\"] = df[\"survived\"].map( {\"yes\": 1, \"no\": 0} ).astype(int)\n",
        "\n",
        "  # Now drop the \"survivant\" column since we've already replaced it by the integer column \"survivant\"\n",
        "  df = df.pop('survived')\n",
        "  \n",
        "  return df"
      ],
      "metadata": {
        "id": "RxGam_UVVVfs"
      },
      "execution_count": 10,
      "outputs": []
    },
    {
      "cell_type": "markdown",
      "source": [
        "# Run fonction to change the type of the variable"
      ],
      "metadata": {
        "id": "dbAdT73agPTc"
      }
    },
    {
      "cell_type": "code",
      "source": [
        "print(df)\n",
        "convertpclass(df)\n",
        "convertAge(df)\n",
        "convertGender(df)\n",
        "convertSurvived(df)\n",
        "print(df)"
      ],
      "metadata": {
        "colab": {
          "base_uri": "https://localhost:8080/"
        },
        "id": "bdL-YxLVApn5",
        "outputId": "ed25819a-a5e9-4f51-f72d-eea25d8ef9fd"
      },
      "execution_count": 11,
      "outputs": [
        {
          "output_type": "stream",
          "name": "stdout",
          "text": [
            "     pclass    age  gender survived\n",
            "0       1st  adult    male      yes\n",
            "1       1st  adult    male      yes\n",
            "2       1st  adult    male      yes\n",
            "3       1st  adult    male      yes\n",
            "4       1st  adult    male      yes\n",
            "...     ...    ...     ...      ...\n",
            "2145   crew  adult  female      yes\n",
            "2146   crew  adult  female      yes\n",
            "2147   crew  adult  female       no\n",
            "2148   crew  adult  female       no\n",
            "2149   crew  adult  female       no\n",
            "\n",
            "[2150 rows x 4 columns]\n",
            "      mahlaka  guil  sex  survivant\n",
            "0           1     1    1          1\n",
            "1           1     1    1          1\n",
            "2           1     1    1          1\n",
            "3           1     1    1          1\n",
            "4           1     1    1          1\n",
            "...       ...   ...  ...        ...\n",
            "2145        0     1    0          1\n",
            "2146        0     1    0          1\n",
            "2147        0     1    0          0\n",
            "2148        0     1    0          0\n",
            "2149        0     1    0          0\n",
            "\n",
            "[2150 rows x 4 columns]\n"
          ]
        }
      ]
    },
    {
      "cell_type": "markdown",
      "source": [
        "# Bagging from scratch\n"
      ],
      "metadata": {
        "id": "zRpPjpKRrBXY"
      }
    },
    {
      "cell_type": "code",
      "source": [
        "class Random_Forest:\n",
        "  def __init(self, n_trees=100, min_samples_split =2, max_depth=100, n_feat)"
      ],
      "metadata": {
        "colab": {
          "base_uri": "https://localhost:8080/",
          "height": 135
        },
        "id": "avifw3yo9_mh",
        "outputId": "0726f301-1ec2-406e-c6b1-b65f35cb21d0"
      },
      "execution_count": null,
      "outputs": [
        {
          "output_type": "error",
          "ename": "SyntaxError",
          "evalue": "ignored",
          "traceback": [
            "\u001b[0;36m  File \u001b[0;32m\"<ipython-input-12-eba80e411a0b>\"\u001b[0;36m, line \u001b[0;32m2\u001b[0m\n\u001b[0;31m    def __init(self, ntrees=100)\u001b[0m\n\u001b[0m                                ^\u001b[0m\n\u001b[0;31mSyntaxError\u001b[0m\u001b[0;31m:\u001b[0m invalid syntax\n"
          ]
        }
      ]
    },
    {
      "cell_type": "markdown",
      "source": [
        "Dans l'étape suivante, nous séparerons les variables indépendantes et dépendantes, en enregistrant les caractéristiques en x et la variable cible en y. Plus tard, divisez les données en entrainant les variables de test en utilisant train_test séparé de sklearn. Comme indiqué ci-dessous."
      ],
      "metadata": {
        "id": "zp9fGc29qP8j"
      }
    },
    {
      "cell_type": "code",
      "source": [
        "# On a separe le tableau en donnant y uniquement la classes les survivants\n",
        "# variables independantes\n",
        "x = df.drop(['survived'], axis = 1)\n",
        "print(x)\n",
        "\n",
        "# variables dependantes\n",
        "y = df['survived']\n",
        "print(y)"
      ],
      "metadata": {
        "id": "sU4ve1fOpJ-z"
      },
      "execution_count": null,
      "outputs": []
    },
    {
      "cell_type": "markdown",
      "source": [
        "# Creating the train and test dataset"
      ],
      "metadata": {
        "id": "Yd0fg3vyrKHO"
      }
    },
    {
      "cell_type": "code",
      "source": [
        ""
      ],
      "metadata": {
        "id": "ol8qApBwrRIS"
      },
      "execution_count": null,
      "outputs": []
    }
  ]
}