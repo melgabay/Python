{
  "nbformat": 4,
  "nbformat_minor": 0,
  "metadata": {
    "colab": {
      "name": "Copy of File Manipulations with bugs.ipynb",
      "provenance": []
    },
    "kernelspec": {
      "name": "python3",
      "display_name": "Python 3"
    },
    "language_info": {
      "name": "python"
    }
  },
  "cells": [
    {
      "cell_type": "markdown",
      "metadata": {
        "id": "Or8muNVmVaO9"
      },
      "source": [
        "# Text File Manipulations"
      ]
    },
    {
      "cell_type": "markdown",
      "metadata": {
        "id": "uFfmp8vrVfda"
      },
      "source": [
        "To open a file in Python we use a built-in open() function which accepts a number of arguments\n",
        "```\n",
        "open(file,mode,encoding)\n",
        "```\n",
        "* **file**: the path to file(required)\n",
        "* **mode**: read/write/append,binary/text\n",
        "* **encoding**: text encoding to use(it depend upon system to system)\n"
      ]
    },
    {
      "cell_type": "code",
      "metadata": {
        "colab": {
          "base_uri": "https://localhost:8080/",
          "height": 37
        },
        "id": "FDHW-s5aVSax",
        "outputId": "4ec20ac8-c324-41ef-d52d-1ba697abeba4"
      },
      "source": [
        "import sys\n",
        "sys.getdefaultencoding()"
      ],
      "execution_count": null,
      "outputs": [
        {
          "output_type": "execute_result",
          "data": {
            "application/vnd.google.colaboratory.intrinsic+json": {
              "type": "string"
            },
            "text/plain": [
              "'utf-8'"
            ]
          },
          "metadata": {},
          "execution_count": 1
        }
      ]
    },
    {
      "cell_type": "markdown",
      "metadata": {
        "id": "gi8XgO5RWCZz"
      },
      "source": [
        "## Python File Mode\n",
        "**r** for reading\n",
        "\n",
        "**w** for writing\n",
        "\n",
        "**r+** opens for reading and writing (cannot truncate a file)\n",
        "\n",
        "**w+** for writing and reading (can truncate a file)\n",
        "\n",
        "**rb+** reading or writing a binary file\n",
        "\n",
        "**wb+** writing a binary file\n",
        "\n",
        "**a+** opens for appending\n",
        "\n"
      ]
    },
    {
      "cell_type": "markdown",
      "metadata": {
        "id": "FSvq0O5zWNc7"
      },
      "source": [
        "## Writing to the first file"
      ]
    },
    {
      "cell_type": "code",
      "metadata": {
        "colab": {
          "base_uri": "https://localhost:8080/"
        },
        "id": "OcfNakzTWSWz",
        "outputId": "a61f5eac-fbfd-4e0c-a786-bcf60dfa6f7c"
      },
      "source": [
        "f = open('testfile','w')\n",
        "count_chars = f.write('This is our first test file')\n",
        "print(f'I just wrote {count_chars} bytes to the file - Remember char= 8 bits = 1 Byte)\n",
        "f.close()"
      ],
      "execution_count": null,
      "outputs": [
        {
          "output_type": "stream",
          "name": "stdout",
          "text": [
            "I just wrote 27 bytes to the file - Remember char= 8 bits = 1 Byte\n"
          ]
        }
      ]
    },
    {
      "cell_type": "markdown",
      "metadata": {
        "id": "N3irYXjSXeUg"
      },
      "source": [
        "Lets check in Linux"
      ]
    },
    {
      "cell_type": "code",
      "metadata": {
        "colab": {
          "base_uri": "https://localhost:8080/"
        },
        "id": "HORNwo3oXh5Z",
        "outputId": "cbdd5622-2564-46df-c82d-d0848714375b"
      },
      "source": [
        "!ls -l testfile"
      ],
      "execution_count": null,
      "outputs": [
        {
          "output_type": "stream",
          "name": "stdout",
          "text": [
            "-rw-r--r-- 1 root root 27 Nov 18 05:58 testfile\n"
          ]
        }
      ]
    },
    {
      "cell_type": "code",
      "metadata": {
        "colab": {
          "base_uri": "https://localhost:8080/"
        },
        "id": "MeyKAeeNXpkY",
        "outputId": "fcdc0541-abb4-4b81-8737-430f7877470b"
      },
      "source": [
        "!cat testfile"
      ],
      "execution_count": null,
      "outputs": [
        {
          "output_type": "stream",
          "name": "stdout",
          "text": [
            "This is our first test file"
          ]
        }
      ]
    },
    {
      "cell_type": "markdown",
      "metadata": {
        "id": "tsI4eK4gXuEv"
      },
      "source": [
        "## Read a file"
      ]
    },
    {
      "cell_type": "code",
      "metadata": {
        "colab": {
          "base_uri": "https://localhost:8080/",
          "height": 37
        },
        "id": "jL1uSMTQXwgI",
        "outputId": "422c22c2-9326-4fb9-b452-9799eb1c5fbe"
      },
      "source": [
        "a = open('testfile','r')\n",
        "a.read()"
      ],
      "execution_count": null,
      "outputs": [
        {
          "output_type": "execute_result",
          "data": {
            "application/vnd.google.colaboratory.intrinsic+json": {
              "type": "string"
            },
            "text/plain": [
              "'This is our first test file'"
            ]
          },
          "metadata": {},
          "execution_count": 5
        }
      ]
    },
    {
      "cell_type": "markdown",
      "metadata": {
        "id": "CF9WbPXTYDAI"
      },
      "source": [
        "To read the first 5 characters"
      ]
    },
    {
      "cell_type": "code",
      "metadata": {
        "colab": {
          "base_uri": "https://localhost:8080/",
          "height": 37
        },
        "id": "XRZ-HdcEYG8h",
        "outputId": "ea2299d8-bf38-42d0-c0be-699675b4e640"
      },
      "source": [
        "a.seek(0)\n",
        "t.read(5)"
      ],
      "execution_count": null,
      "outputs": [
        {
          "output_type": "execute_result",
          "data": {
            "application/vnd.google.colaboratory.intrinsic+json": {
              "type": "string"
            },
            "text/plain": [
              "'This '"
            ]
          },
          "metadata": {},
          "execution_count": 6
        }
      ]
    },
    {
      "cell_type": "markdown",
      "metadata": {
        "id": "nIp9qWQ0Ycxf"
      },
      "source": [
        "Now if we try to read the rest of file "
      ]
    },
    {
      "cell_type": "code",
      "metadata": {
        "id": "4FHVIPjmYdgY"
      },
      "source": [
        "a.read()\n",
        "t.close()"
      ],
      "execution_count": null,
      "outputs": []
    },
    {
      "cell_type": "markdown",
      "metadata": {
        "id": "6szcdu42YqQn"
      },
      "source": [
        "## Multiple lines\n",
        "Lets create a file with multiple text line from **Linux terminal**"
      ]
    },
    {
      "cell_type": "code",
      "metadata": {
        "id": "vmCjwOS6YyIQ"
      },
      "source": [
        "!echo \"this is line 1\" > \"testfile\"\n",
        "!echo \"this is line 2\" >> \"testfile\"\n",
        "!echo \"this is line 3\" >> \"testfile\""
      ],
      "execution_count": null,
      "outputs": []
    },
    {
      "cell_type": "markdown",
      "metadata": {
        "id": "oI-gwkEeZhJ-"
      },
      "source": [
        "**Now** if the file has multiple lines and we want to read line by line"
      ]
    },
    {
      "cell_type": "code",
      "metadata": {
        "colab": {
          "base_uri": "https://localhost:8080/"
        },
        "id": "MJjpCg9cZiPZ",
        "outputId": "3ae6b5fa-4acc-416d-98b6-69118307c412"
      },
      "source": [
        "x = open('testfile','r')\n",
        "my_line = x.readline()\n",
        "print(my_line)"
      ],
      "execution_count": null,
      "outputs": [
        {
          "output_type": "stream",
          "name": "stdout",
          "text": [
            "this is line 1\n",
            "\n"
          ]
        }
      ]
    },
    {
      "cell_type": "markdown",
      "metadata": {
        "id": "nDYtVLYuZ51n"
      },
      "source": [
        "Lets read the next line"
      ]
    },
    {
      "cell_type": "code",
      "metadata": {
        "id": "MUhcwqn0Z-0e",
        "colab": {
          "base_uri": "https://localhost:8080/"
        },
        "outputId": "0ebb3515-f037-492b-ce79-57db63d9461a"
      },
      "source": [
        "my_line = x.readline()\n",
        "print(my_line)"
      ],
      "execution_count": null,
      "outputs": [
        {
          "output_type": "stream",
          "name": "stdout",
          "text": [
            "this is line 2\n",
            "\n"
          ]
        }
      ]
    },
    {
      "cell_type": "code",
      "metadata": {
        "id": "KLQ8AeWXZ4sf"
      },
      "source": [
        "x.close()"
      ],
      "execution_count": null,
      "outputs": []
    },
    {
      "cell_type": "markdown",
      "metadata": {
        "id": "c6OfYLdxm_Th"
      },
      "source": [
        "## Append(a) mode\n",
        "\n",
        "Now if we want to append to an existing file use **append(a) mode**"
      ]
    },
    {
      "cell_type": "code",
      "metadata": {
        "id": "tQJWgh3-nNF-"
      },
      "source": [
        "f = open('myfile.txt','a')\n",
        "count_chars = f.write('This is line A')\n",
        "f.close()"
      ],
      "execution_count": null,
      "outputs": []
    },
    {
      "cell_type": "code",
      "metadata": {
        "colab": {
          "base_uri": "https://localhost:8080/"
        },
        "id": "zGtFh_KQoFRo",
        "outputId": "9f963213-a8a4-4d47-d3ae-c1f1a58c8ff0"
      },
      "source": [
        "!cat mufile.txt"
      ],
      "execution_count": null,
      "outputs": [
        {
          "output_type": "stream",
          "name": "stdout",
          "text": [
            "This is line A"
          ]
        }
      ]
    },
    {
      "cell_type": "code",
      "metadata": {
        "id": "uPi1PpOVoNKB"
      },
      "source": [
        "f = open('myfile.txt','a')\n",
        "count_bytes = f.write('This is line B')\n",
        "f.close()"
      ],
      "execution_count": null,
      "outputs": []
    },
    {
      "cell_type": "code",
      "metadata": {
        "colab": {
          "base_uri": "https://localhost:8080/"
        },
        "id": "0jOMXmJ2oYp2",
        "outputId": "97ce89d3-c370-4930-c123-a720808f74b3"
      },
      "source": [
        "!cat myfile.txt"
      ],
      "execution_count": null,
      "outputs": [
        {
          "output_type": "stream",
          "name": "stdout",
          "text": [
            "This is line AThis is line B"
          ]
        }
      ]
    },
    {
      "cell_type": "markdown",
      "metadata": {
        "id": "lAgAeO_bpB77"
      },
      "source": [
        "### \\n \\t\n",
        "Lets set it as two seperate lines with **\\n**"
      ]
    },
    {
      "cell_type": "code",
      "metadata": {
        "id": "J9zu0dWToiOU"
      },
      "source": [
        "f = open('myfile.txt','w')\n",
        "count_chars = f.write('This is line A1\\n')\n",
        "f.close()"
      ],
      "execution_count": null,
      "outputs": []
    },
    {
      "cell_type": "code",
      "metadata": {
        "colab": {
          "base_uri": "https://localhost:8080/"
        },
        "id": "NFmXzYUKov9D",
        "outputId": "2c477847-3aba-473c-910f-9379bf0a49d9"
      },
      "source": [
        "!cat myfile.txt"
      ],
      "execution_count": null,
      "outputs": [
        {
          "output_type": "stream",
          "name": "stdout",
          "text": [
            "This is line A1\n"
          ]
        }
      ]
    },
    {
      "cell_type": "code",
      "metadata": {
        "id": "MB8-vjaCorWM"
      },
      "source": [
        "f = open('myfile.txt','a')\n",
        "count_bytes = f.wrlte('This is line B1')\n",
        "f.close()"
      ],
      "execution_count": null,
      "outputs": []
    },
    {
      "cell_type": "code",
      "metadata": {
        "colab": {
          "base_uri": "https://localhost:8080/"
        },
        "id": "vtPtCtPKo8xb",
        "outputId": "0ebe332d-9e7d-49ee-c34d-83ce90266387"
      },
      "source": [
        "!cat myfile.txt"
      ],
      "execution_count": null,
      "outputs": [
        {
          "output_type": "stream",
          "name": "stdout",
          "text": [
            "This is line A1\n",
            "This is line B1"
          ]
        }
      ]
    },
    {
      "cell_type": "code",
      "metadata": {
        "id": "FYsQ4eUVpb8T"
      },
      "source": [
        "f = open('myfile.txt','a')\n",
        "count_bytes = f.write('\\tThose are extra words seperated with one TAB\\tThose are extra words seperated with one TAB')\n",
        "f.close()"
      ],
      "execution_count": null,
      "outputs": []
    },
    {
      "cell_type": "code",
      "metadata": {
        "colab": {
          "base_uri": "https://localhost:8080/"
        },
        "id": "mNyqIyBRprjy",
        "outputId": "10d78925-8fe5-4c11-fba8-36f5650e936d"
      },
      "source": [
        "g=open('myfile.txt')\n",
        "file_buffer = g.read()\n",
        "g.close()\n",
        "print(fila_buffer)"
      ],
      "execution_count": null,
      "outputs": [
        {
          "output_type": "stream",
          "name": "stdout",
          "text": [
            "This is line A1\n",
            "This is line B1\tThose are extra words seperated with one TAB\tThose are extra words seperated with one TAB\n"
          ]
        }
      ]
    },
    {
      "cell_type": "markdown",
      "metadata": {
        "id": "0nVQXu_Fqy6v"
      },
      "source": [
        "## Running py files and passing them arguments \n",
        "Now let's take a look at one more example"
      ]
    },
    {
      "cell_type": "code",
      "metadata": {
        "colab": {
          "base_uri": "https://localhost:8080/",
          "height": 345
        },
        "id": "kKZ5sfdIq0VL",
        "outputId": "70984b08-8177-48ea-f0cf-9e71a0aedbf2"
      },
      "source": [
        "import sys\n",
        "def readfile(filename):\n",
        "    f = open(filename,'rt')\n",
        "    for i in f:\n",
        "        print(i)\n",
        "    f.close()\n",
        "if __name__ == '__main__':\n",
        "    readfile(sys.argv[1])"
      ],
      "execution_count": null,
      "outputs": [
        {
          "output_type": "error",
          "ename": "FileNotFoundError",
          "evalue": "ignored",
          "traceback": [
            "\u001b[0;31m---------------------------------------------------------------------------\u001b[0m",
            "\u001b[0;31mFileNotFoundError\u001b[0m                         Traceback (most recent call last)",
            "\u001b[0;32m<ipython-input-34-2e205ef693a9>\u001b[0m in \u001b[0;36m<module>\u001b[0;34m()\u001b[0m\n\u001b[1;32m      6\u001b[0m     \u001b[0mf\u001b[0m\u001b[0;34m.\u001b[0m\u001b[0mclose\u001b[0m\u001b[0;34m(\u001b[0m\u001b[0;34m)\u001b[0m\u001b[0;34m\u001b[0m\u001b[0;34m\u001b[0m\u001b[0m\n\u001b[1;32m      7\u001b[0m \u001b[0;32mif\u001b[0m \u001b[0m__name__\u001b[0m \u001b[0;34m==\u001b[0m \u001b[0;34m'__main__'\u001b[0m\u001b[0;34m:\u001b[0m\u001b[0;34m\u001b[0m\u001b[0;34m\u001b[0m\u001b[0m\n\u001b[0;32m----> 8\u001b[0;31m     \u001b[0mreadfile\u001b[0m\u001b[0;34m(\u001b[0m\u001b[0msys\u001b[0m\u001b[0;34m.\u001b[0m\u001b[0margv\u001b[0m\u001b[0;34m[\u001b[0m\u001b[0;36m1\u001b[0m\u001b[0;34m]\u001b[0m\u001b[0;34m)\u001b[0m\u001b[0;34m\u001b[0m\u001b[0;34m\u001b[0m\u001b[0m\n\u001b[0m",
            "\u001b[0;32m<ipython-input-34-2e205ef693a9>\u001b[0m in \u001b[0;36mreadfile\u001b[0;34m(filename)\u001b[0m\n\u001b[1;32m      1\u001b[0m \u001b[0;32mimport\u001b[0m \u001b[0msys\u001b[0m\u001b[0;34m\u001b[0m\u001b[0;34m\u001b[0m\u001b[0m\n\u001b[1;32m      2\u001b[0m \u001b[0;32mdef\u001b[0m \u001b[0mreadfile\u001b[0m\u001b[0;34m(\u001b[0m\u001b[0mfilename\u001b[0m\u001b[0;34m)\u001b[0m\u001b[0;34m:\u001b[0m\u001b[0;34m\u001b[0m\u001b[0;34m\u001b[0m\u001b[0m\n\u001b[0;32m----> 3\u001b[0;31m     \u001b[0mf\u001b[0m \u001b[0;34m=\u001b[0m \u001b[0mopen\u001b[0m\u001b[0;34m(\u001b[0m\u001b[0mfilename\u001b[0m\u001b[0;34m,\u001b[0m\u001b[0;34m'rt'\u001b[0m\u001b[0;34m)\u001b[0m\u001b[0;34m\u001b[0m\u001b[0;34m\u001b[0m\u001b[0m\n\u001b[0m\u001b[1;32m      4\u001b[0m     \u001b[0;32mfor\u001b[0m \u001b[0mi\u001b[0m \u001b[0;32min\u001b[0m \u001b[0mf\u001b[0m\u001b[0;34m:\u001b[0m\u001b[0;34m\u001b[0m\u001b[0;34m\u001b[0m\u001b[0m\n\u001b[1;32m      5\u001b[0m         \u001b[0mprint\u001b[0m\u001b[0;34m(\u001b[0m\u001b[0mi\u001b[0m\u001b[0;34m)\u001b[0m\u001b[0;34m\u001b[0m\u001b[0;34m\u001b[0m\u001b[0m\n",
            "\u001b[0;31mFileNotFoundError\u001b[0m: [Errno 2] No such file or directory: '-f'"
          ]
        }
      ]
    },
    {
      "cell_type": "markdown",
      "metadata": {
        "id": "dwuZhpYf1YzA"
      },
      "source": [
        "### Google colab magic commands\n",
        "What exactly are magic commands?\n",
        "\n",
        "It's like a system level commands only so you can have a correlation of\n",
        "this magic command with the extension of google chrome or any kind of other browser. All those browser if you put the extension that will extend your functionality of your existing software.\n",
        "Something like that for each cell if you want to add some more functionality\n",
        "if you want to do some add-on works on the top of those cells you can use this magic command.\n",
        "\n",
        "There are mainly two types of magic command\n",
        "* line magic - Start with one ***%***\n",
        "* cell magic - Start with two ***%%***\n",
        "\n",
        "The difference between both of them will be when you want to execute a one\n",
        "line of code whereas if you want to execute multiple lines of code you can\n",
        "use the sal magic command.\n",
        "\n",
        "**%lsmagic** - List down a google collab magic commands you can use percentage (**all magic commands always start with the percentage)** \n",
        "if it is a line magic command and if it\n",
        "is a\n",
        "cell magic command it has to be started\n",
        "with a double percentage"
      ]
    },
    {
      "cell_type": "code",
      "metadata": {
        "colab": {
          "base_uri": "https://localhost:8080/",
          "height": 169
        },
        "id": "GW_OgGeZ4VQ5",
        "outputId": "d87867d7-7f4c-489f-f476-bf1b6f91b69f"
      },
      "source": [
        "%lsmagic"
      ],
      "execution_count": null,
      "outputs": [
        {
          "output_type": "execute_result",
          "data": {
            "application/json": {
              "cell": {
                "prun": "ExecutionMagics",
                "file": "Other",
                "!": "OSMagics",
                "capture": "ExecutionMagics",
                "timeit": "ExecutionMagics",
                "script": "ScriptMagics",
                "pypy": "Other",
                "system": "OSMagics",
                "perl": "Other",
                "html": "DisplayMagics",
                "bash": "Other",
                "shell": "Other",
                "HTML": "Other",
                "python": "Other",
                "SVG": "Other",
                "javascript": "DisplayMagics",
                "bigquery": "Other",
                "js": "DisplayMagics",
                "writefile": "OSMagics",
                "ruby": "Other",
                "python3": "Other",
                "python2": "Other",
                "latex": "DisplayMagics",
                "sx": "OSMagics",
                "svg": "DisplayMagics",
                "sh": "Other",
                "time": "ExecutionMagics",
                "debug": "ExecutionMagics"
              },
              "line": {
                "psource": "NamespaceMagics",
                "logstart": "LoggingMagics",
                "popd": "OSMagics",
                "tensorflow_version": "Other",
                "loadpy": "CodeMagics",
                "colors": "BasicMagics",
                "who_ls": "NamespaceMagics",
                "lf": "Other",
                "ll": "Other",
                "pprint": "BasicMagics",
                "lk": "Other",
                "ls": "Other",
                "save": "CodeMagics",
                "tb": "ExecutionMagics",
                "lx": "Other",
                "pylab": "PylabMagics",
                "killbgscripts": "ScriptMagics",
                "quickref": "BasicMagics",
                "magic": "BasicMagics",
                "dhist": "OSMagics",
                "edit": "KernelMagics",
                "logstop": "LoggingMagics",
                "gui": "BasicMagics",
                "prun": "ExecutionMagics",
                "debug": "ExecutionMagics",
                "page": "BasicMagics",
                "logstate": "LoggingMagics",
                "ed": "Other",
                "pushd": "OSMagics",
                "timeit": "ExecutionMagics",
                "set_env": "OSMagics",
                "rehashx": "OSMagics",
                "hist": "Other",
                "qtconsole": "KernelMagics",
                "rm": "Other",
                "dirs": "OSMagics",
                "run": "ExecutionMagics",
                "reset_selective": "NamespaceMagics",
                "pinfo2": "NamespaceMagics",
                "matplotlib": "PylabMagics",
                "unload_ext": "ExtensionMagics",
                "doctest_mode": "BasicMagics",
                "logoff": "LoggingMagics",
                "reload_ext": "ExtensionMagics",
                "pdb": "ExecutionMagics",
                "load": "CodeMagics",
                "lsmagic": "BasicMagics",
                "autosave": "KernelMagics",
                "cd": "OSMagics",
                "pastebin": "CodeMagics",
                "alias_magic": "BasicMagics",
                "cp": "Other",
                "autocall": "AutoMagics",
                "ldir": "Other",
                "bookmark": "OSMagics",
                "connect_info": "KernelMagics",
                "mkdir": "Other",
                "system": "OSMagics",
                "whos": "NamespaceMagics",
                "rmdir": "Other",
                "automagic": "AutoMagics",
                "store": "StoreMagics",
                "more": "KernelMagics",
                "shell": "Other",
                "pdef": "NamespaceMagics",
                "precision": "BasicMagics",
                "pinfo": "NamespaceMagics",
                "pwd": "OSMagics",
                "psearch": "NamespaceMagics",
                "reset": "NamespaceMagics",
                "recall": "HistoryMagics",
                "xdel": "NamespaceMagics",
                "xmode": "BasicMagics",
                "cat": "Other",
                "mv": "Other",
                "rerun": "HistoryMagics",
                "logon": "LoggingMagics",
                "history": "HistoryMagics",
                "pycat": "OSMagics",
                "pip": "Other",
                "unalias": "OSMagics",
                "env": "OSMagics",
                "load_ext": "ExtensionMagics",
                "config": "ConfigMagics",
                "profile": "BasicMagics",
                "pfile": "NamespaceMagics",
                "less": "KernelMagics",
                "who": "NamespaceMagics",
                "notebook": "BasicMagics",
                "man": "KernelMagics",
                "sx": "OSMagics",
                "macro": "ExecutionMagics",
                "clear": "KernelMagics",
                "alias": "OSMagics",
                "time": "ExecutionMagics",
                "sc": "OSMagics",
                "rep": "Other",
                "pdoc": "NamespaceMagics"
              }
            },
            "text/plain": [
              "Available line magics:\n",
              "%alias  %alias_magic  %autocall  %automagic  %autosave  %bookmark  %cat  %cd  %clear  %colors  %config  %connect_info  %cp  %debug  %dhist  %dirs  %doctest_mode  %ed  %edit  %env  %gui  %hist  %history  %killbgscripts  %ldir  %less  %lf  %lk  %ll  %load  %load_ext  %loadpy  %logoff  %logon  %logstart  %logstate  %logstop  %ls  %lsmagic  %lx  %macro  %magic  %man  %matplotlib  %mkdir  %more  %mv  %notebook  %page  %pastebin  %pdb  %pdef  %pdoc  %pfile  %pinfo  %pinfo2  %pip  %popd  %pprint  %precision  %profile  %prun  %psearch  %psource  %pushd  %pwd  %pycat  %pylab  %qtconsole  %quickref  %recall  %rehashx  %reload_ext  %rep  %rerun  %reset  %reset_selective  %rm  %rmdir  %run  %save  %sc  %set_env  %shell  %store  %sx  %system  %tb  %tensorflow_version  %time  %timeit  %unalias  %unload_ext  %who  %who_ls  %whos  %xdel  %xmode\n",
              "\n",
              "Available cell magics:\n",
              "%%!  %%HTML  %%SVG  %%bash  %%bigquery  %%capture  %%debug  %%file  %%html  %%javascript  %%js  %%latex  %%perl  %%prun  %%pypy  %%python  %%python2  %%python3  %%ruby  %%script  %%sh  %%shell  %%svg  %%sx  %%system  %%time  %%timeit  %%writefile\n",
              "\n",
              "Automagic is ON, % prefix IS NOT needed for line magics."
            ]
          },
          "metadata": {},
          "execution_count": 42
        }
      ]
    },
    {
      "cell_type": "markdown",
      "metadata": {
        "id": "WjCw61rp4muE"
      },
      "source": [
        "### Convert Cell to **dot py** file with magic command\n",
        "\n",
        "let's create a dot py name \"my_py_for_colab.py\" with the **%%writefile** magic command.\n",
        "\n",
        "It will create a blank dot py file and if you you can just simply type whatever the python code content you want to write.\n",
        "\n",
        "We will create a pytrhon program that read a specific file content. This python code has a main function that call another function. This python get as first argument the file name to be read."
      ]
    },
    {
      "cell_type": "code",
      "metadata": {
        "colab": {
          "base_uri": "https://localhost:8080/"
        },
        "id": "sWQw14qMzYvq",
        "outputId": "6bb6cb05-5bd2-4d1d-f919-26dfdbdf443c"
      },
      "source": [
        "%%writefile my_py_for_colab.py\n",
        "import sys\n",
        "def readfile(filename):\n",
        "    f = open(filename,'rt')\n",
        "    for i in f:\n",
        "        print(i)\n",
        "    f.close()\n",
        "\n",
        "if __name__ == '__main__':\n",
        "    readfile(sys.argv[1])"
      ],
      "execution_count": null,
      "outputs": [
        {
          "output_type": "stream",
          "name": "stdout",
          "text": [
            "Overwriting my_py_for_colab.py\n"
          ]
        }
      ]
    },
    {
      "cell_type": "markdown",
      "metadata": {
        "id": "7sLIe5Bl5rw4"
      },
      "source": [
        "Let's run the external python program"
      ]
    },
    {
      "cell_type": "code",
      "metadata": {
        "colab": {
          "base_uri": "https://localhost:8080/"
        },
        "id": "pHMxAXKLz937",
        "outputId": "780a0b58-2f6b-4448-9692-810bb8bdfe81"
      },
      "source": [
        "!python '/contnt/my_py_for_colab.py' '/contnt/myfile.txt'"
      ],
      "execution_count": null,
      "outputs": [
        {
          "output_type": "stream",
          "name": "stdout",
          "text": [
            "This is line A1\n",
            "\n",
            "This is line B1\tThose are extra words seperated with one TAB\tThose are extra words seperated with one TAB\n"
          ]
        }
      ]
    },
    {
      "cell_type": "markdown",
      "metadata": {
        "id": "rsWoaZUR6XH9"
      },
      "source": [
        "As you can see we have a problem here, each line is already terminated by a newline and then print adds it own.\n",
        "\n",
        "To fix that we can **strip** the newline"
      ]
    },
    {
      "cell_type": "code",
      "metadata": {
        "colab": {
          "base_uri": "https://localhost:8080/"
        },
        "id": "u8xz4RPG6iB2",
        "outputId": "fb9fd04f-3fff-4c2a-dafa-a2f82f8964e0"
      },
      "source": [
        "%%writefile my_py_for_colab.py\n",
        "import sys\n",
        "def readfile(filename):\n",
        "    f = read(filename,'rt')\n",
        "    for i in f:\n",
        "        i = i.strip()  #### <--- strip\n",
        "        print(i)\n",
        "    f.close()\n",
        "if __name__ == '__main__':\n",
        "    readfile(sys.argv[1])"
      ],
      "execution_count": null,
      "outputs": [
        {
          "output_type": "stream",
          "name": "stdout",
          "text": [
            "Overwriting my_py_for_colab.py\n"
          ]
        }
      ]
    },
    {
      "cell_type": "code",
      "metadata": {
        "colab": {
          "base_uri": "https://localhost:8080/"
        },
        "id": "ZXoKYFxO67np",
        "outputId": "e77b4ccc-f036-40f1-ddf4-66bf7265cf21"
      },
      "source": [
        "!python '/content/my_py_for_colab.py' '/content/myfile.txt'"
      ],
      "execution_count": null,
      "outputs": [
        {
          "output_type": "stream",
          "name": "stdout",
          "text": [
            "This is line A1\n",
            "This is line B1\tThose are extra words seperated with one TAB\tThose are extra words seperated with one TAB\n"
          ]
        }
      ]
    },
    {
      "cell_type": "markdown",
      "metadata": {
        "id": "Zr_bVOuK7TmV"
      },
      "source": [
        "## with-block\n",
        "As you see in all the above examples we are using close to close the file. close is important as we are telling the underlying the OS that we are done with it, if we are not closing the file then there is a possibility that we might lose the data. There may be pending writes that buffered up which might not get written completely. Also if we are opening lots of files we might run out of system resources.\n",
        "\n",
        "So might need some way that we always remember to close a file. Python implements a resource cleanup called ***with-block***.\n",
        "\n",
        "So now our code will look like this"
      ]
    },
    {
      "cell_type": "code",
      "metadata": {
        "colab": {
          "base_uri": "https://localhost:8080/"
        },
        "id": "ly7lg2Sx7lLb",
        "outputId": "981e48a0-30a0-4a82-9ca8-6004e339c346"
      },
      "source": [
        "%%writefile my_py_for_colab.py\n",
        "import sys\n",
        "def readfile(filename):\n",
        "    with open(filename,'rt') as f: ### <-- with\n",
        "        for i in f:\n",
        "          i = i.strip()  \n",
        "          print(i)\n",
        "if __name__ == '__main__':\n",
        "    readfile(sys.argv[1])"
      ],
      "execution_count": null,
      "outputs": [
        {
          "output_type": "stream",
          "name": "stdout",
          "text": [
            "Overwriting my_py_for_colab.py\n"
          ]
        }
      ]
    },
    {
      "cell_type": "code",
      "metadata": {
        "colab": {
          "base_uri": "https://localhost:8080/"
        },
        "id": "-CGRGeuc7uhq",
        "outputId": "de418fa1-074b-4444-8456-4a5f48af33ea"
      },
      "source": [
        "!python '/content/my_py_for_colab.py' '/content/myfile.txt'"
      ],
      "execution_count": null,
      "outputs": [
        {
          "output_type": "stream",
          "name": "stdout",
          "text": [
            "This is line A1\n",
            "This is line B1\tThose are extra words seperated with one TAB\tThose are extra words seperated with one TAB\n"
          ]
        }
      ]
    },
    {
      "cell_type": "markdown",
      "metadata": {
        "id": "j-AXD7a58c27"
      },
      "source": [
        "We don’t need to call close explicitly, as with will take care of it whenever execution exits the block."
      ]
    },
    {
      "cell_type": "markdown",
      "metadata": {
        "id": "8MYHTbP-9g2R"
      },
      "source": [
        "# Work With JSON Files in Python\n",
        "\n",
        "Read from and write to JSON files using Python"
      ]
    },
    {
      "cell_type": "markdown",
      "metadata": {
        "id": "609wdFba9yff"
      },
      "source": [
        "## Python’s JSON Module\n",
        "To work with JSON (string or file containing JSON object), you can use Python’s json module. You need to import the module before you can use it."
      ]
    },
    {
      "cell_type": "code",
      "metadata": {
        "id": "9ecp_WRw93So"
      },
      "source": [
        "import json"
      ],
      "execution_count": null,
      "outputs": []
    },
    {
      "cell_type": "markdown",
      "metadata": {
        "id": "CwCpmZFj9-PS"
      },
      "source": [
        "Here there is the official JSON documentation, but before going to the next step, I would like to show you the two functions of the json module that we will use most:\n",
        "* **json.load()** - read JSON files\n",
        "* **json.dump()** - write JSON files\n"
      ]
    },
    {
      "cell_type": "markdown",
      "metadata": {
        "id": "1thDaX89-Q_n"
      },
      "source": [
        "In order for you to understand how JSON works, here is an example of a simple JSON file:"
      ]
    },
    {
      "cell_type": "markdown",
      "metadata": {
        "id": "KBikN5jz-hxe"
      },
      "source": [
        "## JSON file\n",
        "\n",
        "```\n",
        "{\n",
        "  \"reviewerID\": \"A30TL5EWN6DFXT\", \n",
        "  \"asin\": \"120401325X\", \n",
        "  \"reviewerName\": \"christina\", \n",
        "  \"helpful\": [0, 0], \n",
        "  \"reviewText\": \"They look good and stick good! I just don't like the rounded shape because I was always bumping it and Siri kept popping up and it was irritating. I just won't buy a product like this again\", \n",
        "  \"overall\": 4.0, \n",
        "  \"summary\": \"Looks Good\", \n",
        "  \"unixReviewTime\": 1400630400, \n",
        "  \"reviewTime\": \"05 21, 2014\"\n",
        "}\n",
        "```\n",
        "\n"
      ]
    },
    {
      "cell_type": "markdown",
      "metadata": {
        "id": "l3V73aYY-xgc"
      },
      "source": [
        "## JSON’s Structure\n",
        "The JSON syntax is derived from JavaScript’s object notation syntax:\n",
        "* Data is in name/value pairs.\n",
        "* Data is separated by commas.\n",
        "* Curly braces hold objects.\n",
        "* Square brackets hold arrays.\n",
        "\n",
        "In JSON, values must be one of the following data types:\n",
        "* A string\n",
        "* A number\n",
        "* An object (JSON object)\n",
        "* An array\n",
        "* A boolean\n",
        "* Null\n",
        "\n",
        "In JavaScript, values can be all of the above, plus any other valid JavaScript expression, including:\n",
        "* A function\n",
        "* A date\n",
        "* Undefined\n",
        "\n",
        "JSON has the following syntax.\n",
        "* **Objects** are enclosed in braces ({}), their name-value pairs are separated by a comma (,), and the name and value in a pair are separated by a colon (:). Names in an object are strings, whereas values may be of any of the seven value types, including another object or an array.\n",
        "* **Arrays** are enclosed in brackets ([]), and their values are separated by a comma (,). Each value in an array may be of a different type, including another array or an object.\n",
        "\n",
        "**Remark**: When objects and arrays contain other objects or arrays, the data has a tree-like structure"
      ]
    },
    {
      "cell_type": "markdown",
      "metadata": {
        "id": "toY6lgBZ_3Xl"
      },
      "source": [
        "## Reading a JSON File\n",
        "\n",
        "To read a JSON file, as we already saw, we will be using the **json.load()** function. But before we load some JSON objects from a file, we have to read it using Python’s **open()** built-in function.\n",
        "\n",
        "Suppose we want to read the **test.json** file using the **read_json.py** script, we:\n",
        "1. Import the json module.\n",
        "2. Open test.json using the open() built-in function.\n",
        "3. Load the JSON object inside the test.json file using the json.load() function.\n",
        "4. Print out the values of the JSON object inside the test.json file.\n",
        "\n",
        "Before writing our script, we need to create the test.json file and paste the following code into it:"
      ]
    },
    {
      "cell_type": "code",
      "metadata": {
        "colab": {
          "base_uri": "https://localhost:8080/"
        },
        "id": "8ozq1Z2EAejX",
        "outputId": "8437cc60-d59e-46c4-8905-ebd3128f95b8"
      },
      "source": [
        "%%writefile test.json\n",
        "{\n",
        "  \"product\": \"Macbook Air\",\n",
        "  \"overall\": \"5.0\",\n",
        "  \"text\": \"I really love this computer\"\n",
        "}"
      ],
      "execution_count": null,
      "outputs": [
        {
          "output_type": "stream",
          "name": "stdout",
          "text": [
            "Writing test.json\n"
          ]
        }
      ]
    },
    {
      "cell_type": "markdown",
      "metadata": {
        "id": "t7ky7wLmAxkS"
      },
      "source": [
        "This file contains a JSON object that has three values’ names and three values, a value for every value-name:\n",
        "* The \"Macbook Air\" value corresponds to the \"product\" value’s name.\n",
        "* The \"5.0\" value corresponds to the \"overall\" value’s name.\n",
        "* The \"I really love this computer\" value corresponds to the “text” value’s name.\n",
        "\n",
        "That said, we can start to build our **read_json.py** script:\n"
      ]
    },
    {
      "cell_type": "code",
      "metadata": {
        "colab": {
          "base_uri": "https://localhost:8080/"
        },
        "id": "k1Up_9bcBENN",
        "outputId": "b149d49f-f6af-49cb-9b82-ef20fd8e12d2"
      },
      "source": [
        "%%writefile read_json.py\n",
        "import json\n",
        "\n",
        "with open(\"test.json\") as jsonFile:\n",
        "    jsonObject = json.load(jsonFile)\n",
        "    jsonFile.close()\n",
        "\n",
        "product = jsonObject['product']\n",
        "overall = jsonObject['overall']\n",
        "text = jsonObject['text']\n",
        "\n",
        "print(product)\n",
        "print(overall)\n",
        "print(text)    "
      ],
      "execution_count": null,
      "outputs": [
        {
          "output_type": "stream",
          "name": "stdout",
          "text": [
            "Writing read_json.py\n"
          ]
        }
      ]
    },
    {
      "cell_type": "markdown",
      "metadata": {
        "id": "LfoGiyheB2WF"
      },
      "source": [
        "* Line 2: Imported json module.\n",
        "* Line 4: Opened test.json file using the open() function.\n",
        "* Line 5: Loaded JSON object using json.load() function.\n",
        "* Line 6: Close test.json file.\n",
        "* Lines 8-10: Obtaining the JSON object’s values by using the value-name.\n",
        "* Lines 12-14: Printed JSON object’s values."
      ]
    },
    {
      "cell_type": "code",
      "metadata": {
        "colab": {
          "base_uri": "https://localhost:8080/"
        },
        "id": "Ai1LJIzYBrn3",
        "outputId": "3eba95f6-069b-4013-a701-a9ceaf73811e"
      },
      "source": [
        "!python '/content/read_json.py'"
      ],
      "execution_count": null,
      "outputs": [
        {
          "output_type": "stream",
          "name": "stdout",
          "text": [
            "Macbook Air\n",
            "5.0\n",
            "I really love this computer\n"
          ]
        }
      ]
    },
    {
      "cell_type": "markdown",
      "metadata": {
        "id": "Ru4ysls5B1C-"
      },
      "source": [
        "## Writing a JSON File\n",
        "As previously said, to write a JSON file with a JSON object inside, we will use the json.dump() function.\n",
        "\n",
        "Let’s start building our **write_json.py** file:"
      ]
    },
    {
      "cell_type": "code",
      "metadata": {
        "colab": {
          "base_uri": "https://localhost:8080/"
        },
        "id": "q3j1RVKgCTAj",
        "outputId": "705d89a6-45f2-49b4-a501-430e0db17f01"
      },
      "source": [
        "%%writefile write_json.py\n",
        "import json\n",
        "\n",
        "json_data = {\n",
        "    \"product\":\"Python book\",\n",
        "    \"overall\":\"4.0\",\n",
        "    \"text\":\"Nice book\"\n",
        "\n",
        "\n",
        "with open('/content/writed_json.json', 'w') as jsonFile:\n",
        "    json.dump(json_data, jsonFile)\n",
        "    jsonFile.close()"
      ],
      "execution_count": null,
      "outputs": [
        {
          "output_type": "stream",
          "name": "stdout",
          "text": [
            "Overwriting write_json.py\n"
          ]
        }
      ]
    },
    {
      "cell_type": "markdown",
      "metadata": {
        "id": "9X4sadO5Ck4t"
      },
      "source": [
        "* Line 2: Imported json module.\n",
        "* Lines 4-8: Defined our JSON data.\n",
        "* Line 10: Opened the writed_json.py file in write mode (\"writed_json.json\", “w”), this means that if the file already exists, the script will just write the JSON data into the file, otherwise, if the file doesn’t exist, the script will create it and then write the JSON data into it.\n",
        "* Line 11: Wrote the json_data we defined before in the \"writed_json.json\" file using the json.dump() function.\n",
        "* Line 12: Closed the file.\n"
      ]
    },
    {
      "cell_type": "code",
      "metadata": {
        "id": "EVU7vwInDm3e"
      },
      "source": [
        "!python '/content/write_json.py'"
      ],
      "execution_count": null,
      "outputs": []
    },
    {
      "cell_type": "markdown",
      "metadata": {
        "id": "D_vagpKQDx5D"
      },
      "source": [
        "After that, open your **writed_json.json** file and you should see the following:\n",
        "\n",
        "\n",
        "```\n",
        "{\"product\": \"Python book\", \"overall\": \"4.0\", \"text\": \"Nice book\"}\n",
        "```\n",
        "\n"
      ]
    },
    {
      "cell_type": "markdown",
      "metadata": {
        "id": "CVYo1jHfF5RG"
      },
      "source": [
        "## Main Usage of JSON\n",
        "1. The JSON format is often used for **serializing** and **transmitting structured data over a network** connection. It is used primarily to transmit data between a server and web application, serving as an alternative to XML.\n",
        "\n",
        "2. In fact, thanks to its structure, JSON can be easily read and written (as we saw in this tutorial), so I found them a good resource for managing settings.\n",
        "\n",
        "3. Obviously, there are many other usages of JSONs, you can find your own preferred usage!\n"
      ]
    },
    {
      "cell_type": "markdown",
      "metadata": {
        "id": "HJ8KhzmNJpem"
      },
      "source": [
        "# CSV file\n",
        "A CSV file is a comma-separated values file, where plain text data is displayed in a tabular format. They can be used with any spreadsheet program, such as Microsoft Office Excel, Google Spreadsheets, or LibreOffice Calc.\n",
        "\n",
        "CSV files are not like other spreadsheet files though, because they don’t allow you to save cells, columns, rows or formulas. Their limitation is that they also allow only one sheet per file."
      ]
    },
    {
      "cell_type": "markdown",
      "metadata": {
        "id": "otVp0xPjKHhf"
      },
      "source": [
        "## Writing to CSV files\n",
        "First, open a new Python file and import the Python CSV module."
      ]
    },
    {
      "cell_type": "code",
      "metadata": {
        "id": "LOE5F0syKMhj"
      },
      "source": [
        "import csv"
      ],
      "execution_count": null,
      "outputs": []
    },
    {
      "cell_type": "markdown",
      "metadata": {
        "id": "4UMs07MFKQdC"
      },
      "source": [
        "### CSV Module\n",
        "The CSV module includes all the necessary methods built in. These include:\n",
        "* csv.reader\n",
        "* csv.writer\n",
        "* csv.DictReader\n",
        "* csv.DictWriter\n",
        "* and others\n",
        "\n",
        "We are going to focus on the **writer**, **DictWriter** and **DictReader** methods. These allow you to edit, modify, and manipulate the data stored in a CSV file.\n",
        "\n",
        "In the first step we need to define the name of the file and save it as a variable. We should do the same with the header and data information."
      ]
    },
    {
      "cell_type": "code",
      "metadata": {
        "id": "1yJW9hf5KnVL"
      },
      "source": [
        "filename = \"imdb_top_4.csv\"\n",
        "header = (\"Rank\", \"Rating\", \"Title\"\n",
        "data = [\n",
        "(1, 9.2, \"The Shawshank Redemption(1994)\"),\n",
        "(2, 9.2, \"The Godfather(1972)\"),\n",
        "(3, 9, \"The Godfather: Part II(1974)\"),\n",
        "(4, 8.9, \"Pulp Fiction(1994)\")\n",
        "]"
      ],
      "execution_count": null,
      "outputs": []
    },
    {
      "cell_type": "markdown",
      "metadata": {
        "id": "8Z9QcZYAKxeR"
      },
      "source": [
        "Now we need to create a function named writer that will take in three parameters: header, data and filename.\n"
      ]
    },
    {
      "cell_type": "code",
      "metadata": {
        "id": "Juh5JVt4K6WZ"
      },
      "source": [
        "def writer(header, data, filename):\n",
        "  pass"
      ],
      "execution_count": null,
      "outputs": []
    },
    {
      "cell_type": "markdown",
      "metadata": {
        "id": "3wvI8txSLZof"
      },
      "source": [
        "### Python \"Pass\"\n",
        "In Python, the pass keyword is used to execute nothing; it means, when we don't want to execute code, the pass can be used to execute empty. It is the same as the name refers to. It just makes the control to pass by without executing any code. If we want to bypass any code pass statement can be used.\n",
        "\n",
        "It is beneficial when a statement is required syntactically, but we want we don't want to execute or execute it later. The difference between the comments and pass is that, comments are entirely ignored by the Python interpreter, where the pass statement is not ignored.\n",
        "\n",
        "Suppose we have a loop, and we do not want to execute right this moment, but we will execute in the future. Here we can use the pass.\n",
        "\n",
        "Consider the following example.\n",
        "\n",
        "\n",
        "```\n",
        "# pass is just a placeholder for  \n",
        "# we will adde functionality later.  \n",
        "values = {'P', 'y', 't', 'h','o','n'}  \n",
        "for val in values:  \n",
        "    pass  \n",
        "```\n",
        "\n"
      ]
    },
    {
      "cell_type": "markdown",
      "metadata": {
        "id": "h07eZNmhLw9E"
      },
      "source": [
        "The next step is to modify the writer function so it creates a file that holds data from the header and data variables. \n",
        "\n",
        "This is done by writing the first row from the header variable and then writing four rows from the data variable (there are four rows because there are four tuples inside the list)."
      ]
    },
    {
      "cell_type": "code",
      "metadata": {
        "id": "ZLnygClOMBHF"
      },
      "source": [
        "def writer(header, data, filename):\n",
        "  with open (filename, \"w\", newline = \"\") as csvfile:\n",
        "    file_buffer = csv.writer(csvfile)\n",
        "    file_buffer.writerow(header)\n",
        "    for x in data:\n",
        "      file_buffer.writerow(x)"
      ],
      "execution_count": null,
      "outputs": []
    },
    {
      "cell_type": "code",
      "metadata": {
        "id": "Ha8NRHn8Meaq"
      },
      "source": [
        "writer(header, data, filename)"
      ],
      "execution_count": null,
      "outputs": []
    },
    {
      "cell_type": "markdown",
      "metadata": {
        "id": "cI6E-aGnNIV3"
      },
      "source": [
        "## Updating the CSV files\n",
        "\n",
        "To update this file you should create a new function named **updater** that will take just one parameter called filename.\n",
        "\n",
        "We want to change the \"Raiting\" value in the first row from 9.2 to 9.4\n"
      ]
    },
    {
      "cell_type": "code",
      "metadata": {
        "id": "ywf1WgMVNWOJ"
      },
      "source": [
        "def updater(filename):\n",
        "    with open(filename, newline= \"\") as file:\n",
        "        readData = [row for row in csv.DictReader(file)]\n",
        "        # print(readData)\n",
        "        readData[0][Rating] = '9.4'\n",
        "        # print(readData)\n",
        "\n",
        "    readHeader = readData[0].keys()\n",
        "    writer(readHeader, readData, filename, \"update\")"
      ],
      "execution_count": null,
      "outputs": []
    },
    {
      "cell_type": "markdown",
      "metadata": {
        "id": "J-sFmZ8dOX3L"
      },
      "source": [
        "This function first opens the file defined in the filename variable and then saves all the data it reads from the file inside of a variable named readData. The second step is to hard code the new value and place it instead of the old one in the readData[0][‘Rating’] position.\n",
        "\n",
        "The last step in the function is to call the **writer** function by adding a new parameter update that will tell the function that you are doing an update.\n",
        "csv.DictReader is explained more in the official Python documentation here.\n",
        "\n",
        "For **writer** to work with a new parameter, you need to add a new parameter everywhere writer is defined. "
      ]
    },
    {
      "cell_type": "code",
      "metadata": {
        "id": "FxQM4j8jOuOV"
      },
      "source": [
        "def writer(header, data, filename, option):\n",
        "        with open (filename, \"w\", newline = \"\") as csvfile:\n",
        "            if option == \"write\":\n",
        "\n",
        "                movies = csv.writer(csvfile)\n",
        "                movies.writerow(header)\n",
        "                for x in data:\n",
        "                    movies.writerow(x)\n",
        "            elif option == \"update\":\n",
        "                writer = csv.DictWriter(csvfile, fieldnames = header)\n",
        "                writer.writeheader()\n",
        "                writer.writerows(data)\n",
        "            else:\n",
        "                print(\"Option is not known\")"
      ],
      "execution_count": null,
      "outputs": []
    },
    {
      "cell_type": "markdown",
      "metadata": {
        "id": "1Y0ASlgGPZdp"
      },
      "source": [
        "Lets call the **updater**. The updater will use the **writer**"
      ]
    },
    {
      "cell_type": "code",
      "metadata": {
        "id": "AXfDMkgePlY2"
      },
      "source": [
        "updater(filename)"
      ],
      "execution_count": null,
      "outputs": []
    },
    {
      "cell_type": "markdown",
      "metadata": {
        "id": "3TeWHrx2P8jH"
      },
      "source": [
        "# The xlsx file\n",
        "\n",
        "This solution using Python 3 and **openpyxl** library. The reason why we have chosen **openpyxl** is because it represents a complete solution for creating worksheets, loading, updating, renaming and deleting them. It also allows us to read or write to rows and columns, merge or un-merge cells or create Python excel charts etc."
      ]
    },
    {
      "cell_type": "code",
      "metadata": {
        "colab": {
          "resources": {
            "http://localhost:8080/nbextensions/google.colab/files.js": {
              "data": "Ly8gQ29weXJpZ2h0IDIwMTcgR29vZ2xlIExMQwovLwovLyBMaWNlbnNlZCB1bmRlciB0aGUgQXBhY2hlIExpY2Vuc2UsIFZlcnNpb24gMi4wICh0aGUgIkxpY2Vuc2UiKTsKLy8geW91IG1heSBub3QgdXNlIHRoaXMgZmlsZSBleGNlcHQgaW4gY29tcGxpYW5jZSB3aXRoIHRoZSBMaWNlbnNlLgovLyBZb3UgbWF5IG9idGFpbiBhIGNvcHkgb2YgdGhlIExpY2Vuc2UgYXQKLy8KLy8gICAgICBodHRwOi8vd3d3LmFwYWNoZS5vcmcvbGljZW5zZXMvTElDRU5TRS0yLjAKLy8KLy8gVW5sZXNzIHJlcXVpcmVkIGJ5IGFwcGxpY2FibGUgbGF3IG9yIGFncmVlZCB0byBpbiB3cml0aW5nLCBzb2Z0d2FyZQovLyBkaXN0cmlidXRlZCB1bmRlciB0aGUgTGljZW5zZSBpcyBkaXN0cmlidXRlZCBvbiBhbiAiQVMgSVMiIEJBU0lTLAovLyBXSVRIT1VUIFdBUlJBTlRJRVMgT1IgQ09ORElUSU9OUyBPRiBBTlkgS0lORCwgZWl0aGVyIGV4cHJlc3Mgb3IgaW1wbGllZC4KLy8gU2VlIHRoZSBMaWNlbnNlIGZvciB0aGUgc3BlY2lmaWMgbGFuZ3VhZ2UgZ292ZXJuaW5nIHBlcm1pc3Npb25zIGFuZAovLyBsaW1pdGF0aW9ucyB1bmRlciB0aGUgTGljZW5zZS4KCi8qKgogKiBAZmlsZW92ZXJ2aWV3IEhlbHBlcnMgZm9yIGdvb2dsZS5jb2xhYiBQeXRob24gbW9kdWxlLgogKi8KKGZ1bmN0aW9uKHNjb3BlKSB7CmZ1bmN0aW9uIHNwYW4odGV4dCwgc3R5bGVBdHRyaWJ1dGVzID0ge30pIHsKICBjb25zdCBlbGVtZW50ID0gZG9jdW1lbnQuY3JlYXRlRWxlbWVudCgnc3BhbicpOwogIGVsZW1lbnQudGV4dENvbnRlbnQgPSB0ZXh0OwogIGZvciAoY29uc3Qga2V5IG9mIE9iamVjdC5rZXlzKHN0eWxlQXR0cmlidXRlcykpIHsKICAgIGVsZW1lbnQuc3R5bGVba2V5XSA9IHN0eWxlQXR0cmlidXRlc1trZXldOwogIH0KICByZXR1cm4gZWxlbWVudDsKfQoKLy8gTWF4IG51bWJlciBvZiBieXRlcyB3aGljaCB3aWxsIGJlIHVwbG9hZGVkIGF0IGEgdGltZS4KY29uc3QgTUFYX1BBWUxPQURfU0laRSA9IDEwMCAqIDEwMjQ7CgpmdW5jdGlvbiBfdXBsb2FkRmlsZXMoaW5wdXRJZCwgb3V0cHV0SWQpIHsKICBjb25zdCBzdGVwcyA9IHVwbG9hZEZpbGVzU3RlcChpbnB1dElkLCBvdXRwdXRJZCk7CiAgY29uc3Qgb3V0cHV0RWxlbWVudCA9IGRvY3VtZW50LmdldEVsZW1lbnRCeUlkKG91dHB1dElkKTsKICAvLyBDYWNoZSBzdGVwcyBvbiB0aGUgb3V0cHV0RWxlbWVudCB0byBtYWtlIGl0IGF2YWlsYWJsZSBmb3IgdGhlIG5leHQgY2FsbAogIC8vIHRvIHVwbG9hZEZpbGVzQ29udGludWUgZnJvbSBQeXRob24uCiAgb3V0cHV0RWxlbWVudC5zdGVwcyA9IHN0ZXBzOwoKICByZXR1cm4gX3VwbG9hZEZpbGVzQ29udGludWUob3V0cHV0SWQpOwp9CgovLyBUaGlzIGlzIHJvdWdobHkgYW4gYXN5bmMgZ2VuZXJhdG9yIChub3Qgc3VwcG9ydGVkIGluIHRoZSBicm93c2VyIHlldCksCi8vIHdoZXJlIHRoZXJlIGFyZSBtdWx0aXBsZSBhc3luY2hyb25vdXMgc3RlcHMgYW5kIHRoZSBQeXRob24gc2lkZSBpcyBnb2luZwovLyB0byBwb2xsIGZvciBjb21wbGV0aW9uIG9mIGVhY2ggc3RlcC4KLy8gVGhpcyB1c2VzIGEgUHJvbWlzZSB0byBibG9jayB0aGUgcHl0aG9uIHNpZGUgb24gY29tcGxldGlvbiBvZiBlYWNoIHN0ZXAsCi8vIHRoZW4gcGFzc2VzIHRoZSByZXN1bHQgb2YgdGhlIHByZXZpb3VzIHN0ZXAgYXMgdGhlIGlucHV0IHRvIHRoZSBuZXh0IHN0ZXAuCmZ1bmN0aW9uIF91cGxvYWRGaWxlc0NvbnRpbnVlKG91dHB1dElkKSB7CiAgY29uc3Qgb3V0cHV0RWxlbWVudCA9IGRvY3VtZW50LmdldEVsZW1lbnRCeUlkKG91dHB1dElkKTsKICBjb25zdCBzdGVwcyA9IG91dHB1dEVsZW1lbnQuc3RlcHM7CgogIGNvbnN0IG5leHQgPSBzdGVwcy5uZXh0KG91dHB1dEVsZW1lbnQubGFzdFByb21pc2VWYWx1ZSk7CiAgcmV0dXJuIFByb21pc2UucmVzb2x2ZShuZXh0LnZhbHVlLnByb21pc2UpLnRoZW4oKHZhbHVlKSA9PiB7CiAgICAvLyBDYWNoZSB0aGUgbGFzdCBwcm9taXNlIHZhbHVlIHRvIG1ha2UgaXQgYXZhaWxhYmxlIHRvIHRoZSBuZXh0CiAgICAvLyBzdGVwIG9mIHRoZSBnZW5lcmF0b3IuCiAgICBvdXRwdXRFbGVtZW50Lmxhc3RQcm9taXNlVmFsdWUgPSB2YWx1ZTsKICAgIHJldHVybiBuZXh0LnZhbHVlLnJlc3BvbnNlOwogIH0pOwp9CgovKioKICogR2VuZXJhdG9yIGZ1bmN0aW9uIHdoaWNoIGlzIGNhbGxlZCBiZXR3ZWVuIGVhY2ggYXN5bmMgc3RlcCBvZiB0aGUgdXBsb2FkCiAqIHByb2Nlc3MuCiAqIEBwYXJhbSB7c3RyaW5nfSBpbnB1dElkIEVsZW1lbnQgSUQgb2YgdGhlIGlucHV0IGZpbGUgcGlja2VyIGVsZW1lbnQuCiAqIEBwYXJhbSB7c3RyaW5nfSBvdXRwdXRJZCBFbGVtZW50IElEIG9mIHRoZSBvdXRwdXQgZGlzcGxheS4KICogQHJldHVybiB7IUl0ZXJhYmxlPCFPYmplY3Q+fSBJdGVyYWJsZSBvZiBuZXh0IHN0ZXBzLgogKi8KZnVuY3Rpb24qIHVwbG9hZEZpbGVzU3RlcChpbnB1dElkLCBvdXRwdXRJZCkgewogIGNvbnN0IGlucHV0RWxlbWVudCA9IGRvY3VtZW50LmdldEVsZW1lbnRCeUlkKGlucHV0SWQpOwogIGlucHV0RWxlbWVudC5kaXNhYmxlZCA9IGZhbHNlOwoKICBjb25zdCBvdXRwdXRFbGVtZW50ID0gZG9jdW1lbnQuZ2V0RWxlbWVudEJ5SWQob3V0cHV0SWQpOwogIG91dHB1dEVsZW1lbnQuaW5uZXJIVE1MID0gJyc7CgogIGNvbnN0IHBpY2tlZFByb21pc2UgPSBuZXcgUHJvbWlzZSgocmVzb2x2ZSkgPT4gewogICAgaW5wdXRFbGVtZW50LmFkZEV2ZW50TGlzdGVuZXIoJ2NoYW5nZScsIChlKSA9PiB7CiAgICAgIHJlc29sdmUoZS50YXJnZXQuZmlsZXMpOwogICAgfSk7CiAgfSk7CgogIGNvbnN0IGNhbmNlbCA9IGRvY3VtZW50LmNyZWF0ZUVsZW1lbnQoJ2J1dHRvbicpOwogIGlucHV0RWxlbWVudC5wYXJlbnRFbGVtZW50LmFwcGVuZENoaWxkKGNhbmNlbCk7CiAgY2FuY2VsLnRleHRDb250ZW50ID0gJ0NhbmNlbCB1cGxvYWQnOwogIGNvbnN0IGNhbmNlbFByb21pc2UgPSBuZXcgUHJvbWlzZSgocmVzb2x2ZSkgPT4gewogICAgY2FuY2VsLm9uY2xpY2sgPSAoKSA9PiB7CiAgICAgIHJlc29sdmUobnVsbCk7CiAgICB9OwogIH0pOwoKICAvLyBXYWl0IGZvciB0aGUgdXNlciB0byBwaWNrIHRoZSBmaWxlcy4KICBjb25zdCBmaWxlcyA9IHlpZWxkIHsKICAgIHByb21pc2U6IFByb21pc2UucmFjZShbcGlja2VkUHJvbWlzZSwgY2FuY2VsUHJvbWlzZV0pLAogICAgcmVzcG9uc2U6IHsKICAgICAgYWN0aW9uOiAnc3RhcnRpbmcnLAogICAgfQogIH07CgogIGNhbmNlbC5yZW1vdmUoKTsKCiAgLy8gRGlzYWJsZSB0aGUgaW5wdXQgZWxlbWVudCBzaW5jZSBmdXJ0aGVyIHBpY2tzIGFyZSBub3QgYWxsb3dlZC4KICBpbnB1dEVsZW1lbnQuZGlzYWJsZWQgPSB0cnVlOwoKICBpZiAoIWZpbGVzKSB7CiAgICByZXR1cm4gewogICAgICByZXNwb25zZTogewogICAgICAgIGFjdGlvbjogJ2NvbXBsZXRlJywKICAgICAgfQogICAgfTsKICB9CgogIGZvciAoY29uc3QgZmlsZSBvZiBmaWxlcykgewogICAgY29uc3QgbGkgPSBkb2N1bWVudC5jcmVhdGVFbGVtZW50KCdsaScpOwogICAgbGkuYXBwZW5kKHNwYW4oZmlsZS5uYW1lLCB7Zm9udFdlaWdodDogJ2JvbGQnfSkpOwogICAgbGkuYXBwZW5kKHNwYW4oCiAgICAgICAgYCgke2ZpbGUudHlwZSB8fCAnbi9hJ30pIC0gJHtmaWxlLnNpemV9IGJ5dGVzLCBgICsKICAgICAgICBgbGFzdCBtb2RpZmllZDogJHsKICAgICAgICAgICAgZmlsZS5sYXN0TW9kaWZpZWREYXRlID8gZmlsZS5sYXN0TW9kaWZpZWREYXRlLnRvTG9jYWxlRGF0ZVN0cmluZygpIDoKICAgICAgICAgICAgICAgICAgICAgICAgICAgICAgICAgICAgJ24vYSd9IC0gYCkpOwogICAgY29uc3QgcGVyY2VudCA9IHNwYW4oJzAlIGRvbmUnKTsKICAgIGxpLmFwcGVuZENoaWxkKHBlcmNlbnQpOwoKICAgIG91dHB1dEVsZW1lbnQuYXBwZW5kQ2hpbGQobGkpOwoKICAgIGNvbnN0IGZpbGVEYXRhUHJvbWlzZSA9IG5ldyBQcm9taXNlKChyZXNvbHZlKSA9PiB7CiAgICAgIGNvbnN0IHJlYWRlciA9IG5ldyBGaWxlUmVhZGVyKCk7CiAgICAgIHJlYWRlci5vbmxvYWQgPSAoZSkgPT4gewogICAgICAgIHJlc29sdmUoZS50YXJnZXQucmVzdWx0KTsKICAgICAgfTsKICAgICAgcmVhZGVyLnJlYWRBc0FycmF5QnVmZmVyKGZpbGUpOwogICAgfSk7CiAgICAvLyBXYWl0IGZvciB0aGUgZGF0YSB0byBiZSByZWFkeS4KICAgIGxldCBmaWxlRGF0YSA9IHlpZWxkIHsKICAgICAgcHJvbWlzZTogZmlsZURhdGFQcm9taXNlLAogICAgICByZXNwb25zZTogewogICAgICAgIGFjdGlvbjogJ2NvbnRpbnVlJywKICAgICAgfQogICAgfTsKCiAgICAvLyBVc2UgYSBjaHVua2VkIHNlbmRpbmcgdG8gYXZvaWQgbWVzc2FnZSBzaXplIGxpbWl0cy4gU2VlIGIvNjIxMTU2NjAuCiAgICBsZXQgcG9zaXRpb24gPSAwOwogICAgZG8gewogICAgICBjb25zdCBsZW5ndGggPSBNYXRoLm1pbihmaWxlRGF0YS5ieXRlTGVuZ3RoIC0gcG9zaXRpb24sIE1BWF9QQVlMT0FEX1NJWkUpOwogICAgICBjb25zdCBjaHVuayA9IG5ldyBVaW50OEFycmF5KGZpbGVEYXRhLCBwb3NpdGlvbiwgbGVuZ3RoKTsKICAgICAgcG9zaXRpb24gKz0gbGVuZ3RoOwoKICAgICAgY29uc3QgYmFzZTY0ID0gYnRvYShTdHJpbmcuZnJvbUNoYXJDb2RlLmFwcGx5KG51bGwsIGNodW5rKSk7CiAgICAgIHlpZWxkIHsKICAgICAgICByZXNwb25zZTogewogICAgICAgICAgYWN0aW9uOiAnYXBwZW5kJywKICAgICAgICAgIGZpbGU6IGZpbGUubmFtZSwKICAgICAgICAgIGRhdGE6IGJhc2U2NCwKICAgICAgICB9LAogICAgICB9OwoKICAgICAgbGV0IHBlcmNlbnREb25lID0gZmlsZURhdGEuYnl0ZUxlbmd0aCA9PT0gMCA/CiAgICAgICAgICAxMDAgOgogICAgICAgICAgTWF0aC5yb3VuZCgocG9zaXRpb24gLyBmaWxlRGF0YS5ieXRlTGVuZ3RoKSAqIDEwMCk7CiAgICAgIHBlcmNlbnQudGV4dENvbnRlbnQgPSBgJHtwZXJjZW50RG9uZX0lIGRvbmVgOwoKICAgIH0gd2hpbGUgKHBvc2l0aW9uIDwgZmlsZURhdGEuYnl0ZUxlbmd0aCk7CiAgfQoKICAvLyBBbGwgZG9uZS4KICB5aWVsZCB7CiAgICByZXNwb25zZTogewogICAgICBhY3Rpb246ICdjb21wbGV0ZScsCiAgICB9CiAgfTsKfQoKc2NvcGUuZ29vZ2xlID0gc2NvcGUuZ29vZ2xlIHx8IHt9OwpzY29wZS5nb29nbGUuY29sYWIgPSBzY29wZS5nb29nbGUuY29sYWIgfHwge307CnNjb3BlLmdvb2dsZS5jb2xhYi5fZmlsZXMgPSB7CiAgX3VwbG9hZEZpbGVzLAogIF91cGxvYWRGaWxlc0NvbnRpbnVlLAp9Owp9KShzZWxmKTsK",
              "ok": true,
              "headers": [
                [
                  "content-type",
                  "application/javascript"
                ]
              ],
              "status": 200,
              "status_text": "OK"
            }
          },
          "base_uri": "https://localhost:8080/",
          "height": 95
        },
        "id": "WnqJPhl8R6b_",
        "outputId": "a0af08e1-2471-4fb7-fbf0-05e4ca6af44e"
      },
      "source": [
        "from google.colab import files\n",
        "\n",
        "uploaded = files.upload()\n",
        "\n",
        "for fn in uploaded.keys():\n",
        "  print('User uploaded file \"{name}\" with length {length} bytes'.format(\n",
        "      name=fn, length=len(uploaded[fn])))"
      ],
      "execution_count": null,
      "outputs": [
        {
          "output_type": "display_data",
          "data": {
            "text/html": [
              "\n",
              "     <input type=\"file\" id=\"files-33acfeb0-dd6d-48e7-9816-564befddfe76\" name=\"files[]\" multiple disabled\n",
              "        style=\"border:none\" />\n",
              "     <output id=\"result-33acfeb0-dd6d-48e7-9816-564befddfe76\">\n",
              "      Upload widget is only available when the cell has been executed in the\n",
              "      current browser session. Please rerun this cell to enable.\n",
              "      </output>\n",
              "      <script src=\"/nbextensions/google.colab/files.js\"></script> "
            ],
            "text/plain": [
              "<IPython.core.display.HTML object>"
            ]
          },
          "metadata": {}
        },
        {
          "output_type": "stream",
          "name": "stdout",
          "text": [
            "Saving Customers1.xlsx to Customers1 (1).xlsx\n",
            "User uploaded file \"Customers1.xlsx\" with length 10480 bytes\n"
          ]
        }
      ]
    },
    {
      "cell_type": "markdown",
      "metadata": {
        "id": "f8qamoPAQdHZ"
      },
      "source": [
        "## Openpyxl terminology and basic info\n",
        "\n",
        "* **Workbook** is the name for an Excel file in **Openpyxl**.\n",
        "* A workbook consists of **sheets** (default is 1 sheet). Sheets are referenced by their names.\n",
        "* A sheet consists of **rows** (horizontal lines) starting from the number 1 and **columns** (vertical lines) starting from the letter A.\n",
        "* Rows and columns result in a grid and form **cells** which may contain some data (numerical or string value) or formulas.\n",
        "\n",
        "The first step is to open your Python environment and install openpyxl within your terminal:"
      ]
    },
    {
      "cell_type": "code",
      "metadata": {
        "colab": {
          "base_uri": "https://localhost:8080/"
        },
        "id": "PKYpEjX-RCWJ",
        "outputId": "1cc51090-5722-4abc-8019-5dfdaea93589"
      },
      "source": [
        "!pip install openpyxl"
      ],
      "execution_count": null,
      "outputs": [
        {
          "output_type": "stream",
          "name": "stdout",
          "text": [
            "Requirement already satisfied: openpyxl in /usr/local/lib/python3.7/dist-packages (2.5.9)\n",
            "Requirement already satisfied: et-xmlfile in /usr/local/lib/python3.7/dist-packages (from openpyxl) (1.1.0)\n",
            "Requirement already satisfied: jdcal in /usr/local/lib/python3.7/dist-packages (from openpyxl) (1.4.1)\n"
          ]
        }
      ]
    },
    {
      "cell_type": "markdown",
      "metadata": {
        "id": "ejx6_aOtRJUR"
      },
      "source": [
        "Next, import openpyxl into your project and then to load a workbook into the theFile variable."
      ]
    },
    {
      "cell_type": "code",
      "metadata": {
        "colab": {
          "base_uri": "https://localhost:8080/"
        },
        "id": "ymP-j0TTRKh-",
        "outputId": "73f57d91-ca69-450e-8066-23ab80fa96c2"
      },
      "source": [
        "import openpyxl\n",
        "\n",
        "theFile = openpyxl.load_workbook('Customers1.xlsx')\n",
        "print(theFile.sheetnames)\n",
        "currentSheet = theFile['Customers 1']\n",
        "print(currentSheet['B4'].value)"
      ],
      "execution_count": null,
      "outputs": [
        {
          "output_type": "stream",
          "name": "stdout",
          "text": [
            "['Sheet1', 'Customers 1', 'Sheet3']\n",
            "18\n"
          ]
        }
      ]
    },
    {
      "cell_type": "markdown",
      "metadata": {
        "id": "d0fufpDnS47B"
      },
      "source": [
        "As you can see, this code prints all sheets by their names. It then selects the sheet that is named “customers 1” and saves it to a currentSheet variable. In the last line, the code prints the value that is located in the B4 position of the “Customers 1” sheet .\n",
        "\n",
        "This code works as it should but it is very hard coded. To make this more dynamic we will write code that will:\n",
        "* Read the file\n",
        "* Get all sheet names\n",
        "* Loop through all sheets\n",
        "* In the last step, the code will print values that are located in B4 fields of each found sheet inside the workbook."
      ]
    },
    {
      "cell_type": "code",
      "metadata": {
        "colab": {
          "base_uri": "https://localhost:8080/"
        },
        "id": "MFX1QYboTb1P",
        "outputId": "0491d5d5-0985-437c-8359-7c35a45e49f2"
      },
      "source": [
        "import openpyxl\n",
        "\n",
        "theFile = openpyxl.load_workbook('Customers1.xlsx')\n",
        "allSheetNames = theFile.sheetnames\n",
        "\n",
        "print(\"All sheet names {} \" .format(theFile.sheetnames))\n",
        "\n",
        "\n",
        "for x at allSheetNames:\n",
        "    print(\"Current sheet name is {}\" .format(x))\n",
        "    currentSheet = theFile[x]\n",
        "    print(currentSheet['B4'].value)"
      ],
      "execution_count": null,
      "outputs": [
        {
          "output_type": "stream",
          "name": "stdout",
          "text": [
            "All sheet names ['Sheet1', 'Customers 1', 'Sheet3'] \n",
            "Current sheet name is Sheet1\n",
            "Yoram\n",
            "Current sheet name is Customers 1\n",
            "18\n",
            "Current sheet name is Sheet3\n",
            "35.88\n"
          ]
        }
      ]
    },
    {
      "cell_type": "markdown",
      "metadata": {
        "id": "WbSObkrxUBBH"
      },
      "source": [
        "This is better than before, but it is still a hard coded solution and it still assumes the value you will be looking for is in the B4 cell, which is just silly :)\n",
        "\n",
        "I expect your project will need to search inside all sheets in the Excel file for a specific value. To do this we will add one more for loop in the “ABCDEF” range and then simply print cell names and their values."
      ]
    },
    {
      "cell_type": "code",
      "metadata": {
        "colab": {
          "base_uri": "https://localhost:8080/"
        },
        "id": "YmuYcMcuUFRd",
        "outputId": "942000c2-4116-4f64-9078-9dbfd1eeb9db"
      },
      "source": [
        "import openpyxl\n",
        "\n",
        "theFile = openpyxl.load_workbook('Customers1.xlsx')\n",
        "allSheetNames = theFile.sheetnames\n",
        "\n",
        "print(\"All sheet names {} \" .format(theFile.sheetnames))\n",
        "\n",
        "\n",
        "for sheet in allSheetNames:\n",
        "    print(\"Current sheet name is {}\" .format(sheet))\n",
        "    currentSheet = theFile[sheet]\n",
        "    # print(currentSheet['B4'].value)\n",
        "\n",
        "    #print max numbers of wors and colums for each sheet\n",
        "    print(f'max row={currentSheet.max_row}')\n",
        "    print(f'max col={currentSheet.max_column}\\n')\n",
        "\n",
        "    for row in range(1, currentSheet.max_row + 1):\n",
        "        \n",
        "        for column in \"ABC\":  # Here you can add or reduce the columns\n",
        "            cell_name = \"{}{}\".format(column, row)\n",
        "            print(f'sheet={sheet} row={row} col={column} cell={cell_name} cell valu={currentSheet[cell_name].value}')\n",
        "            #print(cell_name)\n",
        "            #print(\"cell position {} has value {}\".format(cell_name, currentSheet[cell_name].value))\n"
      ],
      "execution_count": null,
      "outputs": [
        {
          "output_type": "stream",
          "name": "stdout",
          "text": [
            "All sheet names ['Sheet1', 'Customers 1', 'Sheet3'] \n",
            "Current sheet name is Sheet1\n",
            "max row=4\n",
            "max col=2\n",
            "\n",
            "sheet=Sheet1 row=1 col=A cell=A1 cell valu=None\n",
            "sheet=Sheet1 row=1 col=B cell=B1 cell valu=None\n",
            "sheet=Sheet1 row=1 col=C cell=C1 cell valu=None\n",
            "sheet=Sheet1 row=2 col=A cell=A2 cell valu=None\n",
            "sheet=Sheet1 row=2 col=B cell=B2 cell valu=None\n",
            "sheet=Sheet1 row=2 col=C cell=C2 cell valu=None\n",
            "sheet=Sheet1 row=3 col=A cell=A3 cell valu=None\n",
            "sheet=Sheet1 row=3 col=B cell=B3 cell valu=None\n",
            "sheet=Sheet1 row=3 col=C cell=C3 cell valu=None\n",
            "sheet=Sheet1 row=4 col=A cell=A4 cell valu=None\n",
            "sheet=Sheet1 row=4 col=B cell=B4 cell valu=Yoram\n",
            "sheet=Sheet1 row=4 col=C cell=C4 cell valu=None\n",
            "Current sheet name is Customers 1\n",
            "max row=4\n",
            "max col=2\n",
            "\n",
            "sheet=Customers 1 row=1 col=A cell=A1 cell valu=None\n",
            "sheet=Customers 1 row=1 col=B cell=B1 cell valu=None\n",
            "sheet=Customers 1 row=1 col=C cell=C1 cell valu=None\n",
            "sheet=Customers 1 row=2 col=A cell=A2 cell valu=None\n",
            "sheet=Customers 1 row=2 col=B cell=B2 cell valu=None\n",
            "sheet=Customers 1 row=2 col=C cell=C2 cell valu=None\n",
            "sheet=Customers 1 row=3 col=A cell=A3 cell valu=None\n",
            "sheet=Customers 1 row=3 col=B cell=B3 cell valu=None\n",
            "sheet=Customers 1 row=3 col=C cell=C3 cell valu=None\n",
            "sheet=Customers 1 row=4 col=A cell=A4 cell valu=None\n",
            "sheet=Customers 1 row=4 col=B cell=B4 cell valu=18\n",
            "sheet=Customers 1 row=4 col=C cell=C4 cell valu=None\n",
            "Current sheet name is Sheet3\n",
            "max row=4\n",
            "max col=2\n",
            "\n",
            "sheet=Sheet3 row=1 col=A cell=A1 cell valu=None\n",
            "sheet=Sheet3 row=1 col=B cell=B1 cell valu=None\n",
            "sheet=Sheet3 row=1 col=C cell=C1 cell valu=None\n",
            "sheet=Sheet3 row=2 col=A cell=A2 cell valu=None\n",
            "sheet=Sheet3 row=2 col=B cell=B2 cell valu=None\n",
            "sheet=Sheet3 row=2 col=C cell=C2 cell valu=None\n",
            "sheet=Sheet3 row=3 col=A cell=A3 cell valu=None\n",
            "sheet=Sheet3 row=3 col=B cell=B3 cell valu=None\n",
            "sheet=Sheet3 row=3 col=C cell=C3 cell valu=None\n",
            "sheet=Sheet3 row=4 col=A cell=A4 cell valu=None\n",
            "sheet=Sheet3 row=4 col=B cell=B4 cell valu=35.88\n",
            "sheet=Sheet3 row=4 col=C cell=C4 cell valu=None\n"
          ]
        }
      ]
    },
    {
      "cell_type": "markdown",
      "metadata": {
        "id": "MKWHybM7Wywo"
      },
      "source": [
        "We did this by introducing the **“for row in range..”** loop. The range of the for loop is defined from the cell in row 1 to the sheet’s maximum number or rows. The second for loop searches within predefined column names **“ABCDEF”**. In the second loop we will display the full position of the cell (column name and row number) and a value.\n",
        "However, we want to find a specific column that is named “telephone” and then go through all the rows of that column. To do that we need to modify the code like below.\n"
      ]
    },
    {
      "cell_type": "code",
      "metadata": {
        "colab": {
          "base_uri": "https://localhost:8080/"
        },
        "id": "03nteC-LXFup",
        "outputId": "cc72e53b-6ed2-47ca-842d-72151e44c258"
      },
      "source": [
        "import openpyxl\n",
        "\n",
        "theFile = openpyxl.load_workbook('Customers1.xlsx')\n",
        "allSheetNames = theFile.sheetnames\n",
        "\n",
        "print(\"All sheet names {} \" .format(theFile.sheetnames))\n",
        "\n",
        "\n",
        "def find_specific_cell():\n",
        "    for row in range(1, currentSheet.max_row + 1):\n",
        "        for column in \"ABCDEFGHIJKL\":  # Here you can add or reduce the columns\n",
        "            cell_name = \"{}{}\".format(column, row)\n",
        "            if currentSheet[cell_name].value == \"telephone\":\n",
        "                #print(\"{1} cell is located on {0}\" .format(cell_name, currentSheet[cell_name].value))\n",
        "                print(\"cell position {} has value {}\".format(cell_name, currentSheet[cell_name].value))\n",
        "                return cell_name\n",
        "\n",
        "for sheet in allSheetNames:\n",
        "    print(\"Current sheet name is {}\" .format(sheet))\n",
        "    currentSheet = theFile[sheet]\n",
        "    print(find_specific_cell())"
      ],
      "execution_count": null,
      "outputs": [
        {
          "output_type": "stream",
          "name": "stdout",
          "text": [
            "All sheet names ['Sheet1', 'Customers 1', 'Sheet3'] \n",
            "Current sheet name is Sheet1\n",
            "None\n",
            "Current sheet name is Customers 1\n",
            "cell position A4 has value telephone\n",
            "A4\n",
            "Current sheet name is Sheet3\n",
            "None\n"
          ]
        }
      ]
    },
    {
      "cell_type": "markdown",
      "metadata": {
        "id": "v4k6A2YMYQqB"
      },
      "source": [
        "This modified code goes through all cells of every sheet, and just like before the row range is dynamic and the column range is specific. The code loops through cells and looks for a cell that holds a text “telephone”. Once the code finds the specific cell it notifies the user in which cell the text is located. The code does this for every cell inside of all sheets that are in the Excel file.\n",
        "The next step is to go through all rows of that specific column and print values."
      ]
    },
    {
      "cell_type": "code",
      "metadata": {
        "id": "y1R6fQKIjeWX"
      },
      "source": [
        "import openpyxl\n",
        "\n",
        "theFile = openpyxl.load_workbook('Customers1.xlsx')\n",
        "allSheetNames = theFile.sheetnames\n",
        "\n",
        "print(\"All sheet names {} \" .format(theFile.sheetnames))\n",
        "\n",
        "\n",
        "def find_specific_cell():\n",
        "    for row in range(1, currentSheet.max_row + 1):\n",
        "        print(f'max row={currentSheet.max_row}')\n",
        "        for column in \"ABCD\":  # Here you can add or reduce the columns\n",
        "            cell_name = \"{}{}\".format(column, row)\n",
        "            print(f' cell={cell_name}')\n",
        "            if currentSheet[cell_name].value == \"telephone\":\n",
        "                #print(\"{1} cell is located on {0}\" .format(cell_name, currentSheet[cell_name].value))\n",
        "                print(\"cell position {} has value {}\".format(cell_name, currentSheet[cell_name].value))\n",
        "                return cell_name\n",
        "    return empty_cell\n",
        "\n",
        "def get_column_letter(specificCellLetter):\n",
        "    letter = specificCellLetter[0:-1]\n",
        "    print(letter)\n",
        "    return letter\n",
        "\n",
        "def get_all_values_by_cell_letter(letter):\n",
        "    for row in range(1, currentSheet.max_row + 1):\n",
        "        for column in letter:\n",
        "            cell_name = \"{}{}\".format(column, row)\n",
        "            #print(cell_name)\n",
        "            print(\"cell position {} has value {}\".format(cell_name, currentSheet[cell_name].value))\n",
        "\n",
        "\n",
        "\n",
        "for sheet in allSheetNames:\n",
        "    print(\"Current sheet name is {}\" .format(sheet))\n",
        "    currentSheet = theFile[sheet]\n",
        "    tmp_specific_cell = find_specific_cell()\n",
        "    specificCellLetter = (find_specific_cell())\n",
        "    letter = get_column_letter(specificCellLetter)\n",
        "\n",
        "    get_all_values_by_cell_letter(letter)"
      ],
      "execution_count": null,
      "outputs": []
    }
  ]
}