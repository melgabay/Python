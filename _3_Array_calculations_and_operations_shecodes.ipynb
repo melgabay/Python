{
  "nbformat": 4,
  "nbformat_minor": 0,
  "metadata": {
    "colab": {
      "name": "#3: Array calculations and operations shecodes.ipynb",
      "provenance": [],
      "collapsed_sections": [],
      "include_colab_link": true
    },
    "kernelspec": {
      "name": "python3",
      "display_name": "Python 3"
    },
    "accelerator": "GPU"
  },
  "cells": [
    {
      "cell_type": "markdown",
      "metadata": {
        "id": "view-in-github",
        "colab_type": "text"
      },
      "source": [
        "<a href=\"https://colab.research.google.com/github/melgabay/Python/blob/main/_3_Array_calculations_and_operations_shecodes.ipynb\" target=\"_parent\"><img src=\"https://colab.research.google.com/assets/colab-badge.svg\" alt=\"Open In Colab\"/></a>"
      ]
    },
    {
      "cell_type": "markdown",
      "metadata": {
        "id": "IZe1ZEda2w-d"
      },
      "source": [
        "#Exercise #3: Array calculations and operations\n",
        "\n",
        "###Aim: Use NumPy arrays in mathematical calculations\n",
        "\n",
        "In this exercise we refers to a useful guide that can help you solve any questions in NumPy. This guide also summarize all that is needed to know about NumPy. [link to the guide](https://drive.google.com/file/d/0B9crmgoWupXkLTh0TS1HMzlrSVk/view)\n",
        "\n",
        "###Issue covered:\n",
        "\n",
        "\n",
        "\n",
        "*   Mathematical operations with arrays.\n",
        "*   Mathematical operations mixing scalars and arrays.\n",
        "*   Comparisons operators and Boolean operations on arrays.\n",
        "*   Using the \"where\" method.\n",
        "*   Mathematical operations on vectors.\n",
        "*   Find coefficients and roots of polynomial.\n",
        "\n",
        "\n",
        "\n",
        "First, import NumPy as np:\n",
        "\n",
        "\n",
        "\n",
        "\n",
        "\n"
      ]
    },
    {
      "cell_type": "code",
      "metadata": {
        "id": "4dgyBR1B3QVZ"
      },
      "source": [
        "import numpy as np\n"
      ],
      "execution_count": null,
      "outputs": []
    },
    {
      "cell_type": "markdown",
      "metadata": {
        "id": "TWRqPfxK5Q-M"
      },
      "source": [
        "\n",
        "\n",
        "### 1.  Let’s perform some array calculations.\n",
        "**Read “Array mathematics” (pages 8-10) and then:**\n",
        "\n",
        "\n"
      ]
    },
    {
      "cell_type": "markdown",
      "metadata": {
        "id": "tCxziE8W6ryJ"
      },
      "source": [
        "\n",
        "> (a) Create a 2-D array of shape (2, 4) containing two lists (range(4), range(10, 14)) and assign it to the variable \"a\":\n",
        "\n",
        "\n",
        "\n",
        "\n",
        "\n",
        "\n"
      ]
    },
    {
      "cell_type": "code",
      "metadata": {
        "id": "M8Gr9PQC64mb",
        "colab": {
          "base_uri": "https://localhost:8080/"
        },
        "outputId": "e1e13013-e174-43e4-ca7a-1fb31ce40479"
      },
      "source": [
        "# Your Code Here#\n",
        "a = np.zeros((2,4) , int)\n",
        "a[:1] = range(4)\n",
        "a[1:2] = range(10,14)\n",
        "\n",
        "print(a)"
      ],
      "execution_count": null,
      "outputs": [
        {
          "output_type": "stream",
          "name": "stdout",
          "text": [
            "[[ 0  1  2  3]\n",
            " [10 11 12 13]]\n"
          ]
        }
      ]
    },
    {
      "cell_type": "markdown",
      "metadata": {
        "id": "GFuaihgyHR8h"
      },
      "source": [
        "> (b) Create a 2-D array of shape (2, 4) containing two lists (range(4), range(10, 14)) and assign it to the variable \"b\" :\n"
      ]
    },
    {
      "cell_type": "code",
      "metadata": {
        "id": "U3jo3clSQe2L",
        "colab": {
          "base_uri": "https://localhost:8080/"
        },
        "outputId": "f0f4877d-5129-48ba-97a7-4fa95e729abf"
      },
      "source": [
        "# Your Code Here#\n",
        "b = np.zeros((2,4), int )\n",
        "b[:1] = range(4)\n",
        "b[1:2] = range(10,14)\n",
        "\n",
        "print(a)"
      ],
      "execution_count": null,
      "outputs": [
        {
          "output_type": "stream",
          "name": "stdout",
          "text": [
            "[[ 0  1  2  3]\n",
            " [10 11 12 13]]\n"
          ]
        }
      ]
    },
    {
      "cell_type": "markdown",
      "metadata": {
        "id": "S9JfjvRNQXRX"
      },
      "source": [
        "\n",
        "> (c) Multiply array \"a\" by \"b\" and view the results:\n",
        "\n",
        "\n"
      ]
    },
    {
      "cell_type": "code",
      "metadata": {
        "id": "DXloqUXrK-nM",
        "colab": {
          "base_uri": "https://localhost:8080/"
        },
        "outputId": "db77d45a-21ae-4669-8577-728609246b9b"
      },
      "source": [
        "# Your Code Here#\n",
        "a = a*b\n",
        "print(a)"
      ],
      "execution_count": null,
      "outputs": [
        {
          "output_type": "stream",
          "name": "stdout",
          "text": [
            "[[  0   1   4   9]\n",
            " [100 121 144 169]]\n"
          ]
        }
      ]
    },
    {
      "cell_type": "markdown",
      "metadata": {
        "id": "W8GJq0rf1RTA"
      },
      "source": [
        "Do you understand how NumPy has used its broadcasting feature to do the calculation even though the arrays are different shapes?"
      ]
    },
    {
      "cell_type": "markdown",
      "metadata": {
        "id": "uT_f2eLVQg3h"
      },
      "source": [
        "\n",
        "\n",
        "> (d) Multiply array \"b\" by 100 and assign the result to the variable \"b1\":\n",
        "\n"
      ]
    },
    {
      "cell_type": "code",
      "metadata": {
        "id": "wcVdZoTuQnx5",
        "colab": {
          "base_uri": "https://localhost:8080/"
        },
        "outputId": "2b81ff29-063d-47a6-93ba-2bf0ff37d3e4"
      },
      "source": [
        "# Your Code Here#\n",
        "b1 = b*100\n",
        "\n",
        "print(b1)"
      ],
      "execution_count": null,
      "outputs": [
        {
          "output_type": "stream",
          "name": "stdout",
          "text": [
            "[[   0  100  200  300]\n",
            " [1000 1100 1200 1300]]\n"
          ]
        }
      ]
    },
    {
      "cell_type": "markdown",
      "metadata": {
        "id": "tPgGzdv1V3lX"
      },
      "source": [
        "\n",
        "\n",
        "> (e) Multiply array \"b\" by 100.0 and assign the result to the variable \"b2\":\n",
        "\n"
      ]
    },
    {
      "cell_type": "code",
      "metadata": {
        "id": "chRMlDigV4K4",
        "colab": {
          "base_uri": "https://localhost:8080/"
        },
        "outputId": "0ffc98dc-5f6b-4056-f7de-697c310fe5ab"
      },
      "source": [
        "# Your Code Here#\n",
        "b2 = b*100.0\n",
        "\n",
        "print(b2)"
      ],
      "execution_count": null,
      "outputs": [
        {
          "output_type": "stream",
          "name": "stdout",
          "text": [
            "[[   0.  100.  200.  300.]\n",
            " [1000. 1100. 1200. 1300.]]\n"
          ]
        }
      ]
    },
    {
      "cell_type": "markdown",
      "metadata": {
        "id": "fxR1WFi5V6bZ"
      },
      "source": [
        "\n",
        "\n",
        ">(f) Print b1 == b2:\n",
        "\n",
        "\n",
        "\n"
      ]
    },
    {
      "cell_type": "code",
      "metadata": {
        "id": "JLwxkjOaV6_T",
        "colab": {
          "base_uri": "https://localhost:8080/"
        },
        "outputId": "5068ba4f-3801-4b87-c7b5-97b73c663ffe"
      },
      "source": [
        "# Your Code Here#\n",
        "print(b1 == b2)"
      ],
      "execution_count": null,
      "outputs": [
        {
          "output_type": "stream",
          "name": "stdout",
          "text": [
            "[[ True  True  True  True]\n",
            " [ True  True  True  True]]\n"
          ]
        }
      ]
    },
    {
      "cell_type": "markdown",
      "metadata": {
        "id": "CoEpdBZc1yyO"
      },
      "source": [
        "Are they the same?"
      ]
    },
    {
      "cell_type": "markdown",
      "metadata": {
        "id": "hbafHSgGWPtC"
      },
      "source": [
        "\n",
        "\n",
        ">(g) Why do they display differently? Interrogate the typecode of each array to find out why:\n",
        "\n"
      ]
    },
    {
      "cell_type": "code",
      "metadata": {
        "id": "ofR9uzC_WQc8",
        "colab": {
          "base_uri": "https://localhost:8080/"
        },
        "outputId": "9d834b41-a8b3-4fa7-f889-7ccb85b999bd"
      },
      "source": [
        "# Your Code Here#\n",
        "print(b1.dtype)\n",
        "print(b2.dtype)\n"
      ],
      "execution_count": null,
      "outputs": [
        {
          "output_type": "stream",
          "name": "stdout",
          "text": [
            "int64\n",
            "float64\n"
          ]
        }
      ]
    },
    {
      "cell_type": "markdown",
      "metadata": {
        "id": "ymRcEsoPQor3"
      },
      "source": [
        "###2. Let's perform some operations on array.\n",
        "Read the last code chunk on page 4 and read on until page 7 includes \n",
        "\tRead “Basic array operations” (pages 11-12) and then:\n",
        "\n"
      ]
    },
    {
      "cell_type": "markdown",
      "metadata": {
        "id": "5mB8SDGwQ1hA"
      },
      "source": [
        "\n",
        "\n",
        "> (a) Continue to use arrays \"a\" defined above:\n",
        "\n",
        "\n"
      ]
    },
    {
      "cell_type": "markdown",
      "metadata": {
        "id": "V7VOA6lWRulp"
      },
      "source": [
        "\n",
        "\n",
        "> (b) Print the sum, mean and the product of \"a\" in two different ways:\n",
        "\n",
        "\n"
      ]
    },
    {
      "cell_type": "code",
      "metadata": {
        "id": "0kQ0HtXvRfPZ",
        "colab": {
          "base_uri": "https://localhost:8080/"
        },
        "outputId": "656670d1-2628-44f7-934a-0704208f4797"
      },
      "source": [
        "# Your Code Here#\n",
        "print(a.sum())\n",
        "\n",
        "sum=0\n",
        "for x in a:\n",
        "  for y in x:\n",
        "    sum+=y\n",
        "print(sum)\n"
      ],
      "execution_count": null,
      "outputs": [
        {
          "output_type": "stream",
          "name": "stdout",
          "text": [
            "548\n",
            "548\n"
          ]
        }
      ]
    },
    {
      "cell_type": "markdown",
      "metadata": {
        "id": "YEDbBZKpR14i"
      },
      "source": [
        "\n",
        "\n",
        ">(c) Print the variance and the standard deviation of \"a\"in two different ways:\n",
        "\n",
        "\n"
      ]
    },
    {
      "cell_type": "code",
      "metadata": {
        "id": "A8dgmHOtR1OJ",
        "colab": {
          "base_uri": "https://localhost:8080/",
          "height": 217
        },
        "outputId": "34b2fd01-51e2-400c-e342-0b74068cd8eb"
      },
      "source": [
        "# Your Code Here#\n",
        "print(np.var(a))\n",
        "\n",
        "# calculate mean\n",
        "m = a.sum() / a.size\n",
        "\n",
        "# calculate variance using a list comprehension\n",
        "var_res = sum((xi - m) ** 2 for xi in a) / a.size"
      ],
      "execution_count": null,
      "outputs": [
        {
          "output_type": "stream",
          "name": "stdout",
          "text": [
            "4562.25\n"
          ]
        },
        {
          "output_type": "error",
          "ename": "TypeError",
          "evalue": "ignored",
          "traceback": [
            "\u001b[0;31m---------------------------------------------------------------------------\u001b[0m",
            "\u001b[0;31mTypeError\u001b[0m                                 Traceback (most recent call last)",
            "\u001b[0;32m<ipython-input-14-bfd9e5683871>\u001b[0m in \u001b[0;36m<module>\u001b[0;34m()\u001b[0m\n\u001b[1;32m      6\u001b[0m \u001b[0;34m\u001b[0m\u001b[0m\n\u001b[1;32m      7\u001b[0m \u001b[0;31m# calculate variance using a list comprehension\u001b[0m\u001b[0;34m\u001b[0m\u001b[0;34m\u001b[0m\u001b[0;34m\u001b[0m\u001b[0m\n\u001b[0;32m----> 8\u001b[0;31m \u001b[0mvar_res\u001b[0m \u001b[0;34m=\u001b[0m \u001b[0msum\u001b[0m\u001b[0;34m(\u001b[0m\u001b[0;34m(\u001b[0m\u001b[0mxi\u001b[0m \u001b[0;34m-\u001b[0m \u001b[0mm\u001b[0m\u001b[0;34m)\u001b[0m \u001b[0;34m**\u001b[0m \u001b[0;36m2\u001b[0m \u001b[0;32mfor\u001b[0m \u001b[0mxi\u001b[0m \u001b[0;32min\u001b[0m \u001b[0ma\u001b[0m\u001b[0;34m)\u001b[0m \u001b[0;34m/\u001b[0m \u001b[0ma\u001b[0m\u001b[0;34m.\u001b[0m\u001b[0msize\u001b[0m\u001b[0;34m\u001b[0m\u001b[0;34m\u001b[0m\u001b[0m\n\u001b[0m",
            "\u001b[0;31mTypeError\u001b[0m: 'numpy.int64' object is not callable"
          ]
        }
      ]
    },
    {
      "cell_type": "markdown",
      "metadata": {
        "id": "HiSsOJ1zZAj0"
      },
      "source": [
        "###3. Let’s look at array comparisons.\n",
        "Read “Comparisons operators and value testing” (pages 12-14). Then:\n",
        "\n"
      ]
    },
    {
      "cell_type": "markdown",
      "metadata": {
        "id": "b7N5elRAST-u"
      },
      "source": [
        "\n",
        "\n",
        ">(a)  Create an array of values 0 to 9 and assign it to the variable \"arr\":\n",
        "\n",
        "\n"
      ]
    },
    {
      "cell_type": "code",
      "metadata": {
        "id": "NLxAKMvnSUdU",
        "colab": {
          "base_uri": "https://localhost:8080/"
        },
        "outputId": "e97541f0-d8b8-467f-b3b1-c54140002a04"
      },
      "source": [
        "# Your Code Here#\n",
        "arr = np.array(range(10))\n",
        "\n",
        "print(arr)"
      ],
      "execution_count": null,
      "outputs": [
        {
          "output_type": "stream",
          "name": "stdout",
          "text": [
            "[0 1 2 3 4 5 6 7 8 9]\n"
          ]
        }
      ]
    },
    {
      "cell_type": "markdown",
      "metadata": {
        "id": "EQKgp9DtSVis"
      },
      "source": [
        "\n",
        "\n",
        ">(b)  Print two different ways of expressing the condition where the array is less than 3:\n",
        "\n",
        "\n"
      ]
    },
    {
      "cell_type": "code",
      "metadata": {
        "id": "3TNZKchOSbzx",
        "colab": {
          "base_uri": "https://localhost:8080/"
        },
        "outputId": "b9ede669-c607-4027-ea90-a45cd693f8aa"
      },
      "source": [
        "# Your Code Here#\n",
        "for x in arr:\n",
        "    if arr.item(x) < 3:\n",
        "      print(arr.item(x))\n",
        "\n",
        "print(arr<3)\n"
      ],
      "execution_count": null,
      "outputs": [
        {
          "output_type": "stream",
          "name": "stdout",
          "text": [
            "0\n",
            "1\n",
            "2\n",
            "[ True  True  True False False False False False False False]\n"
          ]
        }
      ]
    },
    {
      "cell_type": "markdown",
      "metadata": {
        "id": "M_Uht7xyZKGj"
      },
      "source": [
        "\n",
        "\n",
        ">(c)  Create a numpy condition where \"arr\" is less than 3 OR greater than 8:\n",
        "\n",
        "\n"
      ]
    },
    {
      "cell_type": "code",
      "metadata": {
        "id": "vhcw0ivoabhH",
        "colab": {
          "base_uri": "https://localhost:8080/"
        },
        "outputId": "59f06fe2-f9a3-4570-94c8-e39f1035cc1e"
      },
      "source": [
        "# Your Code Here#\n",
        "\n",
        "for x in arr:\n",
        "  if arr.item(x)<3 or arr.item(x)>8:\n",
        "          print(arr.item(x))\n"
      ],
      "execution_count": null,
      "outputs": [
        {
          "output_type": "stream",
          "name": "stdout",
          "text": [
            "0\n",
            "1\n",
            "2\n",
            "9\n"
          ]
        }
      ]
    },
    {
      "cell_type": "markdown",
      "metadata": {
        "id": "S8uivrLuZKHB"
      },
      "source": [
        "\n",
        "\n",
        ">(d)  Use the  *where*  function to create a new array where the value is arr * 5 if the above condition is True and arr * -5 where the condition is False:\n",
        "\n",
        "\n"
      ]
    },
    {
      "cell_type": "code",
      "metadata": {
        "colab": {
          "base_uri": "https://localhost:8080/"
        },
        "id": "3NRPFQGB_j7G",
        "outputId": "0ffb12dc-95d1-4751-87b8-3de58e47341a"
      },
      "source": [
        "# Your Code Here#\n",
        "new_arr = np.array\n",
        "for x in arr:\n",
        "  if arr.item(x)<3 or arr.item(x)>8:\n",
        "    #item = arr.item(x)*5\n",
        "    new_arr= np.insert (new_arr,x, (arr.item(x)*5))\n",
        "    #np.append(new_arr, arr.item(x)*5)\n",
        "  else :\n",
        "    item = arr.item(x)*-5\n",
        "    #np.append(new_arr, arr.item(x)*5)\n",
        "    new_arr= np.insert(new_arr,x, (arr.item(x)*-5))\n",
        "\n",
        "print(new_arr)  \n"
      ],
      "execution_count": null,
      "outputs": [
        {
          "output_type": "stream",
          "name": "stdout",
          "text": [
            "[0 5 10 -15 -20 -25 -30 -35 -40 45 <built-in function array>]\n"
          ]
        }
      ]
    },
    {
      "cell_type": "markdown",
      "metadata": {
        "id": "Qyqe78f9ZC5N"
      },
      "source": [
        "###4. Let’s look at item selection and manipulation.\n",
        "Read “Array item selection and manipulation” (pages 14-16).\n",
        "\n",
        "\n"
      ]
    },
    {
      "cell_type": "markdown",
      "metadata": {
        "id": "ZKU-9cUnZL9f"
      },
      "source": [
        "\n",
        "\n",
        ">(a)  Continue to use arrays \"a\" defined above:\n",
        "\n",
        "\n"
      ]
    },
    {
      "cell_type": "markdown",
      "metadata": {
        "id": "BXR-B8keZL9o"
      },
      "source": [
        "\n",
        "\n",
        ">(b)  Print an array contains all the values from \"a\" that are greater than 1:\n",
        "\n",
        "\n"
      ]
    },
    {
      "cell_type": "code",
      "metadata": {
        "id": "bBhq6lKqZL9p",
        "colab": {
          "base_uri": "https://localhost:8080/"
        },
        "outputId": "a32dd6e0-dbc4-419e-a6c0-002e78901ab8"
      },
      "source": [
        "# Your Code Here#\n",
        "print(a>1)  \n"
      ],
      "execution_count": null,
      "outputs": [
        {
          "output_type": "stream",
          "name": "stdout",
          "text": [
            "[[False False  True  True]\n",
            " [ True  True  True  True]]\n"
          ]
        }
      ]
    },
    {
      "cell_type": "markdown",
      "metadata": {
        "id": "momFetd_ZL9t"
      },
      "source": [
        "\n",
        "\n",
        ">(c)  Print an array contains all the values from \"a\" that are greater than 3 and smaller than 11:\n",
        "\n",
        "\n"
      ]
    },
    {
      "cell_type": "code",
      "metadata": {
        "id": "rHI4S7sfZL9u"
      },
      "source": [
        "# Your Code Here#\n"
      ],
      "execution_count": null,
      "outputs": []
    },
    {
      "cell_type": "markdown",
      "metadata": {
        "id": "zONW_cEvZL9y"
      },
      "source": [
        "\n",
        "\n",
        ">(d)  Create an array from the list range(6) and assign it to the variable \"b\":\n",
        "\n"
      ]
    },
    {
      "cell_type": "code",
      "metadata": {
        "id": "Ol5cQ93GZL90"
      },
      "source": [
        "# Your Code Here#\n"
      ],
      "execution_count": null,
      "outputs": []
    },
    {
      "cell_type": "markdown",
      "metadata": {
        "id": "TtS3z4rQZL95"
      },
      "source": [
        "\n",
        "\n",
        ">(e)  Use the  *put*  function to replace the first element of \"b\" with 6:\n",
        "\n",
        "\n"
      ]
    },
    {
      "cell_type": "code",
      "metadata": {
        "id": "ZjKZYkFJZL96"
      },
      "source": [
        "# Your Code Here#\n"
      ],
      "execution_count": null,
      "outputs": []
    },
    {
      "cell_type": "markdown",
      "metadata": {
        "id": "viMNO5ikZL9-"
      },
      "source": [
        "\n",
        "\n",
        ">(f)  Create an array from the list range(5) and assign it to the variable \"c\":\n",
        "\n",
        "\n"
      ]
    },
    {
      "cell_type": "code",
      "metadata": {
        "id": "QPIY4YztZL9_"
      },
      "source": [
        "# Your Code Here#\n"
      ],
      "execution_count": null,
      "outputs": []
    },
    {
      "cell_type": "markdown",
      "metadata": {
        "id": "or4R15o-b0jq"
      },
      "source": [
        "\n",
        "\n",
        ">(g)   Use the  *put*  function to replace the first element of \"b\" with the last element of \"c\":\n",
        "\n"
      ]
    },
    {
      "cell_type": "code",
      "metadata": {
        "id": "OSFMwExBb3Tu"
      },
      "source": [
        "# Your Code Here#\n"
      ],
      "execution_count": null,
      "outputs": []
    },
    {
      "cell_type": "markdown",
      "metadata": {
        "id": "056ZwQF_41sj"
      },
      "source": [
        "## Goog Job!!"
      ]
    }
  ]
}